{
  "cells": [
    {
      "cell_type": "markdown",
      "metadata": {
        "id": "VfYP75LwrQGc"
      },
      "source": [
        "**CS 342 - Machine Learning**\n",
        "\n",
        "**GMM for Clustering**\n",
        "\n",
        "\n",
        "\n"
      ]
    },
    {
      "cell_type": "code",
      "execution_count": 3,
      "metadata": {
        "id": "xNt6iUqc7KMB"
      },
      "outputs": [],
      "source": [
        "#importing packages\n",
        "\n",
        "import pandas as pd\n",
        "import numpy as np\n",
        "\n",
        "import matplotlib.pyplot as plt\n",
        "from matplotlib import patches\n",
        "from matplotlib.patches import Ellipse\n",
        "\n",
        "import plotly.express as px\n",
        "import plotly.graph_objects as go\n",
        "\n",
        "from sklearn.cluster import KMeans\n",
        "from sklearn.metrics import classification_report\n",
        "from sklearn.preprocessing import StandardScaler\n",
        "from sklearn.metrics import classification_report\n",
        "\n",
        "from scipy.stats import multivariate_normal \n"
      ]
    },
    {
      "cell_type": "markdown",
      "metadata": {
        "id": "1MDKZjZ4Iumb"
      },
      "source": [
        "**Part A - Loading the Iris Dataset**"
      ]
    },
    {
      "cell_type": "code",
      "execution_count": 4,
      "metadata": {
        "colab": {
          "base_uri": "https://localhost:8080/",
          "height": 204
        },
        "id": "aaYZbHXoF_qF",
        "outputId": "297bda96-5ec2-4560-a5d3-846d8335346f"
      },
      "outputs": [
        {
          "data": {
            "text/html": [
              "<div>\n",
              "<style scoped>\n",
              "    .dataframe tbody tr th:only-of-type {\n",
              "        vertical-align: middle;\n",
              "    }\n",
              "\n",
              "    .dataframe tbody tr th {\n",
              "        vertical-align: top;\n",
              "    }\n",
              "\n",
              "    .dataframe thead th {\n",
              "        text-align: right;\n",
              "    }\n",
              "</style>\n",
              "<table border=\"1\" class=\"dataframe\">\n",
              "  <thead>\n",
              "    <tr style=\"text-align: right;\">\n",
              "      <th></th>\n",
              "      <th>sepal_length</th>\n",
              "      <th>sepal_width</th>\n",
              "      <th>petal_length</th>\n",
              "      <th>petal_width</th>\n",
              "      <th>class</th>\n",
              "    </tr>\n",
              "  </thead>\n",
              "  <tbody>\n",
              "    <tr>\n",
              "      <th>0</th>\n",
              "      <td>5.1</td>\n",
              "      <td>3.5</td>\n",
              "      <td>1.4</td>\n",
              "      <td>0.2</td>\n",
              "      <td>Iris-setosa</td>\n",
              "    </tr>\n",
              "    <tr>\n",
              "      <th>1</th>\n",
              "      <td>4.9</td>\n",
              "      <td>3.0</td>\n",
              "      <td>1.4</td>\n",
              "      <td>0.2</td>\n",
              "      <td>Iris-setosa</td>\n",
              "    </tr>\n",
              "    <tr>\n",
              "      <th>2</th>\n",
              "      <td>4.7</td>\n",
              "      <td>3.2</td>\n",
              "      <td>1.3</td>\n",
              "      <td>0.2</td>\n",
              "      <td>Iris-setosa</td>\n",
              "    </tr>\n",
              "    <tr>\n",
              "      <th>3</th>\n",
              "      <td>4.6</td>\n",
              "      <td>3.1</td>\n",
              "      <td>1.5</td>\n",
              "      <td>0.2</td>\n",
              "      <td>Iris-setosa</td>\n",
              "    </tr>\n",
              "    <tr>\n",
              "      <th>4</th>\n",
              "      <td>5.0</td>\n",
              "      <td>3.6</td>\n",
              "      <td>1.4</td>\n",
              "      <td>0.2</td>\n",
              "      <td>Iris-setosa</td>\n",
              "    </tr>\n",
              "  </tbody>\n",
              "</table>\n",
              "</div>"
            ],
            "text/plain": [
              "   sepal_length  sepal_width  petal_length  petal_width        class\n",
              "0           5.1          3.5           1.4          0.2  Iris-setosa\n",
              "1           4.9          3.0           1.4          0.2  Iris-setosa\n",
              "2           4.7          3.2           1.3          0.2  Iris-setosa\n",
              "3           4.6          3.1           1.5          0.2  Iris-setosa\n",
              "4           5.0          3.6           1.4          0.2  Iris-setosa"
            ]
          },
          "execution_count": 4,
          "metadata": {},
          "output_type": "execute_result"
        }
      ],
      "source": [
        "#A - Loading dataset\n",
        "\n",
        "#loading the iris dataset and assigning column names\n",
        "df_iris = pd.read_csv('iris.data', header = None)\n",
        "df_iris.columns =['sepal_length', 'sepal_width', 'petal_length', 'petal_width','class']\n",
        "\n",
        "#checking the first five rows of the iris dataset\n",
        "df_iris.head()\n"
      ]
    },
    {
      "cell_type": "markdown",
      "metadata": {
        "id": "FWX_LElCJABb"
      },
      "source": [
        "**Part B - Performing Principal Componenet Analysis on Iris Dataset**"
      ]
    },
    {
      "cell_type": "code",
      "execution_count": 5,
      "metadata": {
        "colab": {
          "base_uri": "https://localhost:8080/",
          "height": 542
        },
        "id": "XhcwoyYOGwyI",
        "outputId": "819c806b-5545-41bf-e446-0fd4804a7f2c"
      },
      "outputs": [
        {
          "data": {
            "text/html": [
              "<html>\n",
              "<head><meta charset=\"utf-8\" /></head>\n",
              "<body>\n",
              "    <div>\n",
              "            <script src=\"https://cdnjs.cloudflare.com/ajax/libs/mathjax/2.7.5/MathJax.js?config=TeX-AMS-MML_SVG\"></script><script type=\"text/javascript\">if (window.MathJax) {MathJax.Hub.Config({SVG: {font: \"STIX-Web\"}});}</script>\n",
              "                <script type=\"text/javascript\">window.PlotlyConfig = {MathJaxConfig: 'local'};</script>\n",
              "        <script src=\"https://cdn.plot.ly/plotly-latest.min.js\"></script>    \n",
              "            <div id=\"59406e43-37a6-4d94-8b86-a400c73a9351\" class=\"plotly-graph-div\" style=\"height:525px; width:100%;\"></div>\n",
              "            <script type=\"text/javascript\">\n",
              "                \n",
              "                    window.PLOTLYENV=window.PLOTLYENV || {};\n",
              "                    \n",
              "                if (document.getElementById(\"59406e43-37a6-4d94-8b86-a400c73a9351\")) {\n",
              "                    Plotly.newPlot(\n",
              "                        '59406e43-37a6-4d94-8b86-a400c73a9351',\n",
              "                        [{\"hoverlabel\": {\"namelength\": 0}, \"hovertemplate\": \"class=Iris-setosa<br>PC 1=%{x}<br>PC 2=%{y}\", \"legendgroup\": \"class=Iris-setosa\", \"marker\": {\"color\": \"#636efa\", \"symbol\": \"circle\"}, \"mode\": \"markers\", \"name\": \"class=Iris-setosa\", \"showlegend\": true, \"type\": \"scatter\", \"x\": [-2.2645417283948994, -2.0864255006161585, -2.3679504490625254, -2.304197161152009, -2.388777493505641, -2.0705368071805523, -2.4457113396302828, -2.2338418587092654, -2.3419576764553898, -2.1886757552808698, -2.163486556266522, -2.3273777541343734, -2.224082722045002, -2.6397162608446294, -2.1922915084984282, -2.2514652145840635, -2.2027504800800846, -2.1901791637910515, -1.8940742930236674, -2.3399490704234074, -1.9145563949595168, -2.2046453975338127, -2.774169793705156, -1.8204115633372135, -2.2282174994597246, -1.9570240073413971, -2.052063311276686, -2.1681936533450203, -2.140305963284157, -2.268790194387876, -2.1445544292771346, -1.8319381022015868, -2.608202867663346, -2.437950859095141, -2.1886757552808698, -2.211119896812422, -2.0444165193198, -2.1886757552808698, -2.4359522029660194, -2.1705472018842698, -2.2865272388409297, -1.8717072235369516, -2.557834419537512, -1.9642792903547368, -2.1333728329200268, -2.0753575928373063, -2.381258216802372, -2.398191687662638, -2.2267812130915177, -2.205954168648402], \"xaxis\": \"x\", \"y\": [-0.5057039027737842, 0.6554047293691371, 0.31847731084724934, 0.5753677125331955, -0.674767396702515, -1.5185485598885125, -0.07456267500687402, -0.2476139317522648, 1.0951463625829554, 0.4486290483375595, -1.0705955760377257, -0.15858745465947582, 0.7091181580302267, 0.9382819821078541, -1.8899785123164645, -2.7223710765744684, -1.513750282546218, -0.5143043082206924, -1.4311107069412359, -1.1580334289850007, -0.43046516328013734, -0.9524573172889979, -0.489517026503495, -0.10675079283540581, -0.16218616266619681, 0.6078925674838085, -0.2660143119816548, -0.5520164953235392, -0.3366404088450537, 0.3148786028405283, 0.48394209676925914, -0.4452668355028063, -1.8284751927341008, -2.185391615630892, 0.4486290483375595, 0.18433781054027923, -0.6849564262949358, 0.4486290483375595, 0.8821694147756171, -0.2927269549664459, -0.46799171567093767, 2.32769160611491, 0.45381638048979306, -0.4973916400183833, -1.1714321117742037, 0.6919173471364103, -1.1506325928736663, 0.3623907647258572, -1.025482552823544, -0.032237845273779125], \"yaxis\": \"y\"}, {\"hoverlabel\": {\"namelength\": 0}, \"hovertemplate\": \"class=Iris-versicolor<br>PC 1=%{x}<br>PC 2=%{y}\", \"legendgroup\": \"class=Iris-versicolor\", \"marker\": {\"color\": \"#EF553B\", \"symbol\": \"circle\"}, \"mode\": \"markers\", \"name\": \"class=Iris-versicolor\", \"showlegend\": true, \"type\": \"scatter\", \"x\": [1.1039936528045722, 0.7324814400086808, 1.2421095053189375, 0.39730728282332634, 1.0725939482015445, 0.38445814616900126, 0.748715075951553, -0.49786338779811856, 0.9262223675330977, 0.0049680255843190385, -0.1246974613803719, 0.4387301177805466, 0.5516339814225064, 0.717165066236851, -0.03725838296568851, 0.8758905359406828, 0.34800640198020855, 0.1533925445686665, 1.2153032092161529, 0.15694117564424995, 0.7382561043698961, 0.47236968234456794, 1.2279882140834417, 0.6293810453149015, 0.7004727992084578, 0.8735369874014333, 1.2542221905224493, 1.3582398473872714, 0.6621261375659374, -0.04728151331988073, 0.12153420888011794, 0.014118226051386977, 0.23601083732659633, 1.0566914280905761, 0.2214170883302179, 0.43178316074105383, 1.04941335521918, 1.035878210322823, 0.06706759987298029, 0.2754250662518336, 0.2723350662617716, 0.6231705397262214, 0.33000536383722584, -0.37362762268737687, 0.2829443429551024, 0.08905311031901139, 0.22435678320860583, 0.5738834855584666, -0.4570128725046754, 0.2522444732694689], \"xaxis\": \"x\", \"y\": [-0.8631124458513227, -0.5986355733419962, -0.6148224496122853, 1.7581689474435267, 0.2117579026798969, 0.591062468622737, -0.7786986113887812, 1.8488687712754428, -0.03033082678337979, 1.0294011124030882, 2.658062677961761, 0.058881285021455086, 1.772581564856256, 0.18543431450504475, 0.43279509871416955, -0.5099981510591461, 0.19062164665727824, 0.7907254562344861, 1.633355644515484, 1.3031032701729117, -0.40247038161853543, 0.41660822244388046, 0.9409147925302734, 0.41681164254177305, 0.06349392765170343, -0.25070861070205264, 0.08262009981311401, -0.3288202662704008, 0.22434607094346495, 1.057212412605021, 1.5635923798655786, 1.5733923546480604, 0.7759237840118172, 0.6369012837689377, 0.2808476930856405, -0.8551369202180021, -0.5221972645127754, 1.392466484387782, 0.2126207348933893, 1.3298159131577028, 1.1194415241194045, -0.027542633302293573, 0.9889007318191555, 2.0179322652041733, 0.8539507169865506, 0.1749085477905423, 0.38048465948654603, 0.15371997408006607, 1.539464510263981, 0.5958607459650317], \"yaxis\": \"y\"}, {\"hoverlabel\": {\"namelength\": 0}, \"hovertemplate\": \"class=Iris-virginica<br>PC 1=%{x}<br>PC 2=%{y}\", \"legendgroup\": \"class=Iris-virginica\", \"marker\": {\"color\": \"#00cc96\", \"symbol\": \"circle\"}, \"mode\": \"markers\", \"name\": \"class=Iris-virginica\", \"showlegend\": true, \"type\": \"scatter\", \"x\": [1.8476725943096644, 1.1531898082521288, 2.206349497126593, 1.4386854023261815, 1.8678907025555844, 2.754196708825752, 0.35837447484166757, 2.3030058981503188, 2.0017352992189155, 2.2675545991022688, 1.3659094292022143, 1.5990645856518686, 1.884251853752074, 1.2530865143775913, 1.4640615229856224, 1.591809302638529, 1.4712801894655434, 2.437378482193509, 3.3091411826760786, 1.253980986690577, 2.040496259663039, 0.9739151144704735, 2.898064435843276, 1.3291936913234927, 1.704240708519606, 1.9577276617934352, 1.1719045079878683, 1.0197810528162627, 1.7860088612484677, 1.8647779127074657, 2.4354973914151423, 2.3160824119611547, 1.8603714258523156, 1.1112717256759688, 1.1974691551180372, 2.8009494037340286, 1.5801552485205375, 1.3470444243548019, 0.9234329777663841, 1.8535519840664405, 2.016157200677759, 1.9031168585994869, 1.1531898082521288, 2.0433084392878094, 2.001690966934998, 1.8705220714601252, 1.5584918907237164, 1.5208450639985902, 1.3763911906419284, 0.9592985756160379], \"xaxis\": \"x\", \"y\": [-0.8716966617734125, 0.7013261138565757, -0.5544701049349213, 0.050010522268886366, -0.2911928017611684, -0.7884322063548433, 1.5600945839772893, -0.40951669522194206, 0.7238653593126605, -1.921442991465354, -0.6939480398041603, 0.4282488359003405, -0.41433275795008295, 1.1673913352452463, 0.4441475694791238, -0.677035371601851, -0.2531924719668146, -2.5567573414948006, 0.0023613201020845995, 1.7175838442659783, -0.907398765015052, 0.5711743763662664, -0.39779135917186653, 0.48676054190372486, -1.0141484248357842, -1.0033345154297757, 0.3188966173105686, -0.06554296309664738, 0.19327279985689214, -0.5553815315789882, -0.2466544680689725, -2.626183869022626, 0.18467239440998395, 0.2959861024303912, 0.8171677419136167, -0.8447481937849729, -1.0724744961271218, -0.4222559658955455, -0.019230370546892604, -0.6724227289716028, -0.6103970375551121, -0.6860248318586981, 0.7013261138565757, -0.8646848804720179, -1.048550046623417, -0.3828218376229973, 0.905313601407067, -0.26679457485391, -1.016361928794885, 0.022283944660567524], \"yaxis\": \"y\"}],\n",
              "                        {\"legend\": {\"tracegroupgap\": 0}, \"template\": {\"data\": {\"bar\": [{\"error_x\": {\"color\": \"#2a3f5f\"}, \"error_y\": {\"color\": \"#2a3f5f\"}, \"marker\": {\"line\": {\"color\": \"white\", \"width\": 0.5}}, \"type\": \"bar\"}], \"barpolar\": [{\"marker\": {\"line\": {\"color\": \"white\", \"width\": 0.5}}, \"type\": \"barpolar\"}], \"carpet\": [{\"aaxis\": {\"endlinecolor\": \"#2a3f5f\", \"gridcolor\": \"#C8D4E3\", \"linecolor\": \"#C8D4E3\", \"minorgridcolor\": \"#C8D4E3\", \"startlinecolor\": \"#2a3f5f\"}, \"baxis\": {\"endlinecolor\": \"#2a3f5f\", \"gridcolor\": \"#C8D4E3\", \"linecolor\": \"#C8D4E3\", \"minorgridcolor\": \"#C8D4E3\", \"startlinecolor\": \"#2a3f5f\"}, \"type\": \"carpet\"}], \"choropleth\": [{\"colorbar\": {\"outlinewidth\": 0, \"ticks\": \"\"}, \"type\": \"choropleth\"}], \"contour\": [{\"colorbar\": {\"outlinewidth\": 0, \"ticks\": \"\"}, \"colorscale\": [[0.0, \"#0d0887\"], [0.1111111111111111, \"#46039f\"], [0.2222222222222222, \"#7201a8\"], [0.3333333333333333, \"#9c179e\"], [0.4444444444444444, \"#bd3786\"], [0.5555555555555556, \"#d8576b\"], [0.6666666666666666, \"#ed7953\"], [0.7777777777777778, \"#fb9f3a\"], [0.8888888888888888, \"#fdca26\"], [1.0, \"#f0f921\"]], \"type\": \"contour\"}], \"contourcarpet\": [{\"colorbar\": {\"outlinewidth\": 0, \"ticks\": \"\"}, \"type\": \"contourcarpet\"}], \"heatmap\": [{\"colorbar\": {\"outlinewidth\": 0, \"ticks\": \"\"}, \"colorscale\": [[0.0, \"#0d0887\"], [0.1111111111111111, \"#46039f\"], [0.2222222222222222, \"#7201a8\"], [0.3333333333333333, \"#9c179e\"], [0.4444444444444444, \"#bd3786\"], [0.5555555555555556, \"#d8576b\"], [0.6666666666666666, \"#ed7953\"], [0.7777777777777778, \"#fb9f3a\"], [0.8888888888888888, \"#fdca26\"], [1.0, \"#f0f921\"]], \"type\": \"heatmap\"}], \"heatmapgl\": [{\"colorbar\": {\"outlinewidth\": 0, \"ticks\": \"\"}, \"colorscale\": [[0.0, \"#0d0887\"], [0.1111111111111111, \"#46039f\"], [0.2222222222222222, \"#7201a8\"], [0.3333333333333333, \"#9c179e\"], [0.4444444444444444, \"#bd3786\"], [0.5555555555555556, \"#d8576b\"], [0.6666666666666666, \"#ed7953\"], [0.7777777777777778, \"#fb9f3a\"], [0.8888888888888888, \"#fdca26\"], [1.0, \"#f0f921\"]], \"type\": \"heatmapgl\"}], \"histogram\": [{\"marker\": {\"colorbar\": {\"outlinewidth\": 0, \"ticks\": \"\"}}, \"type\": \"histogram\"}], \"histogram2d\": [{\"colorbar\": {\"outlinewidth\": 0, \"ticks\": \"\"}, \"colorscale\": [[0.0, \"#0d0887\"], [0.1111111111111111, \"#46039f\"], [0.2222222222222222, \"#7201a8\"], [0.3333333333333333, \"#9c179e\"], [0.4444444444444444, \"#bd3786\"], [0.5555555555555556, \"#d8576b\"], [0.6666666666666666, \"#ed7953\"], [0.7777777777777778, \"#fb9f3a\"], [0.8888888888888888, \"#fdca26\"], [1.0, \"#f0f921\"]], \"type\": \"histogram2d\"}], \"histogram2dcontour\": [{\"colorbar\": {\"outlinewidth\": 0, \"ticks\": \"\"}, \"colorscale\": [[0.0, \"#0d0887\"], [0.1111111111111111, \"#46039f\"], [0.2222222222222222, \"#7201a8\"], [0.3333333333333333, \"#9c179e\"], [0.4444444444444444, \"#bd3786\"], [0.5555555555555556, \"#d8576b\"], [0.6666666666666666, \"#ed7953\"], [0.7777777777777778, \"#fb9f3a\"], [0.8888888888888888, \"#fdca26\"], [1.0, \"#f0f921\"]], \"type\": \"histogram2dcontour\"}], \"mesh3d\": [{\"colorbar\": {\"outlinewidth\": 0, \"ticks\": \"\"}, \"type\": \"mesh3d\"}], \"parcoords\": [{\"line\": {\"colorbar\": {\"outlinewidth\": 0, \"ticks\": \"\"}}, \"type\": \"parcoords\"}], \"pie\": [{\"automargin\": true, \"type\": \"pie\"}], \"scatter\": [{\"marker\": {\"colorbar\": {\"outlinewidth\": 0, \"ticks\": \"\"}}, \"type\": \"scatter\"}], \"scatter3d\": [{\"line\": {\"colorbar\": {\"outlinewidth\": 0, \"ticks\": \"\"}}, \"marker\": {\"colorbar\": {\"outlinewidth\": 0, \"ticks\": \"\"}}, \"type\": \"scatter3d\"}], \"scattercarpet\": [{\"marker\": {\"colorbar\": {\"outlinewidth\": 0, \"ticks\": \"\"}}, \"type\": \"scattercarpet\"}], \"scattergeo\": [{\"marker\": {\"colorbar\": {\"outlinewidth\": 0, \"ticks\": \"\"}}, \"type\": \"scattergeo\"}], \"scattergl\": [{\"marker\": {\"colorbar\": {\"outlinewidth\": 0, \"ticks\": \"\"}}, \"type\": \"scattergl\"}], \"scattermapbox\": [{\"marker\": {\"colorbar\": {\"outlinewidth\": 0, \"ticks\": \"\"}}, \"type\": \"scattermapbox\"}], \"scatterpolar\": [{\"marker\": {\"colorbar\": {\"outlinewidth\": 0, \"ticks\": \"\"}}, \"type\": \"scatterpolar\"}], \"scatterpolargl\": [{\"marker\": {\"colorbar\": {\"outlinewidth\": 0, \"ticks\": \"\"}}, \"type\": \"scatterpolargl\"}], \"scatterternary\": [{\"marker\": {\"colorbar\": {\"outlinewidth\": 0, \"ticks\": \"\"}}, \"type\": \"scatterternary\"}], \"surface\": [{\"colorbar\": {\"outlinewidth\": 0, \"ticks\": \"\"}, \"colorscale\": [[0.0, \"#0d0887\"], [0.1111111111111111, \"#46039f\"], [0.2222222222222222, \"#7201a8\"], [0.3333333333333333, \"#9c179e\"], [0.4444444444444444, \"#bd3786\"], [0.5555555555555556, \"#d8576b\"], [0.6666666666666666, \"#ed7953\"], [0.7777777777777778, \"#fb9f3a\"], [0.8888888888888888, \"#fdca26\"], [1.0, \"#f0f921\"]], \"type\": \"surface\"}], \"table\": [{\"cells\": {\"fill\": {\"color\": \"#EBF0F8\"}, \"line\": {\"color\": \"white\"}}, \"header\": {\"fill\": {\"color\": \"#C8D4E3\"}, \"line\": {\"color\": \"white\"}}, \"type\": \"table\"}]}, \"layout\": {\"annotationdefaults\": {\"arrowcolor\": \"#2a3f5f\", \"arrowhead\": 0, \"arrowwidth\": 1}, \"coloraxis\": {\"colorbar\": {\"outlinewidth\": 0, \"ticks\": \"\"}}, \"colorscale\": {\"diverging\": [[0, \"#8e0152\"], [0.1, \"#c51b7d\"], [0.2, \"#de77ae\"], [0.3, \"#f1b6da\"], [0.4, \"#fde0ef\"], [0.5, \"#f7f7f7\"], [0.6, \"#e6f5d0\"], [0.7, \"#b8e186\"], [0.8, \"#7fbc41\"], [0.9, \"#4d9221\"], [1, \"#276419\"]], \"sequential\": [[0.0, \"#0d0887\"], [0.1111111111111111, \"#46039f\"], [0.2222222222222222, \"#7201a8\"], [0.3333333333333333, \"#9c179e\"], [0.4444444444444444, \"#bd3786\"], [0.5555555555555556, \"#d8576b\"], [0.6666666666666666, \"#ed7953\"], [0.7777777777777778, \"#fb9f3a\"], [0.8888888888888888, \"#fdca26\"], [1.0, \"#f0f921\"]], \"sequentialminus\": [[0.0, \"#0d0887\"], [0.1111111111111111, \"#46039f\"], [0.2222222222222222, \"#7201a8\"], [0.3333333333333333, \"#9c179e\"], [0.4444444444444444, \"#bd3786\"], [0.5555555555555556, \"#d8576b\"], [0.6666666666666666, \"#ed7953\"], [0.7777777777777778, \"#fb9f3a\"], [0.8888888888888888, \"#fdca26\"], [1.0, \"#f0f921\"]]}, \"colorway\": [\"#636efa\", \"#EF553B\", \"#00cc96\", \"#ab63fa\", \"#FFA15A\", \"#19d3f3\", \"#FF6692\", \"#B6E880\", \"#FF97FF\", \"#FECB52\"], \"font\": {\"color\": \"#2a3f5f\"}, \"geo\": {\"bgcolor\": \"white\", \"lakecolor\": \"white\", \"landcolor\": \"white\", \"showlakes\": true, \"showland\": true, \"subunitcolor\": \"#C8D4E3\"}, \"hoverlabel\": {\"align\": \"left\"}, \"hovermode\": \"closest\", \"mapbox\": {\"style\": \"light\"}, \"paper_bgcolor\": \"white\", \"plot_bgcolor\": \"white\", \"polar\": {\"angularaxis\": {\"gridcolor\": \"#EBF0F8\", \"linecolor\": \"#EBF0F8\", \"ticks\": \"\"}, \"bgcolor\": \"white\", \"radialaxis\": {\"gridcolor\": \"#EBF0F8\", \"linecolor\": \"#EBF0F8\", \"ticks\": \"\"}}, \"scene\": {\"xaxis\": {\"backgroundcolor\": \"white\", \"gridcolor\": \"#DFE8F3\", \"gridwidth\": 2, \"linecolor\": \"#EBF0F8\", \"showbackground\": true, \"ticks\": \"\", \"zerolinecolor\": \"#EBF0F8\"}, \"yaxis\": {\"backgroundcolor\": \"white\", \"gridcolor\": \"#DFE8F3\", \"gridwidth\": 2, \"linecolor\": \"#EBF0F8\", \"showbackground\": true, \"ticks\": \"\", \"zerolinecolor\": \"#EBF0F8\"}, \"zaxis\": {\"backgroundcolor\": \"white\", \"gridcolor\": \"#DFE8F3\", \"gridwidth\": 2, \"linecolor\": \"#EBF0F8\", \"showbackground\": true, \"ticks\": \"\", \"zerolinecolor\": \"#EBF0F8\"}}, \"shapedefaults\": {\"line\": {\"color\": \"#2a3f5f\"}}, \"ternary\": {\"aaxis\": {\"gridcolor\": \"#DFE8F3\", \"linecolor\": \"#A2B1C6\", \"ticks\": \"\"}, \"baxis\": {\"gridcolor\": \"#DFE8F3\", \"linecolor\": \"#A2B1C6\", \"ticks\": \"\"}, \"bgcolor\": \"white\", \"caxis\": {\"gridcolor\": \"#DFE8F3\", \"linecolor\": \"#A2B1C6\", \"ticks\": \"\"}}, \"title\": {\"x\": 0.05}, \"xaxis\": {\"automargin\": true, \"gridcolor\": \"#EBF0F8\", \"linecolor\": \"#EBF0F8\", \"ticks\": \"\", \"title\": {\"standoff\": 15}, \"zerolinecolor\": \"#EBF0F8\", \"zerolinewidth\": 2}, \"yaxis\": {\"automargin\": true, \"gridcolor\": \"#EBF0F8\", \"linecolor\": \"#EBF0F8\", \"ticks\": \"\", \"title\": {\"standoff\": 15}, \"zerolinecolor\": \"#EBF0F8\", \"zerolinewidth\": 2}}}, \"title\": {\"text\": \"PCA\", \"x\": 0.4}, \"xaxis\": {\"anchor\": \"y\", \"domain\": [0.0, 1.0], \"title\": {\"text\": \"PC 1\"}}, \"yaxis\": {\"anchor\": \"x\", \"domain\": [0.0, 1.0], \"title\": {\"text\": \"PC 2\"}}},\n",
              "                        {\"responsive\": true}\n",
              "                    ).then(function(){\n",
              "                            \n",
              "var gd = document.getElementById('59406e43-37a6-4d94-8b86-a400c73a9351');\n",
              "var x = new MutationObserver(function (mutations, observer) {{\n",
              "        var display = window.getComputedStyle(gd).display;\n",
              "        if (!display || display === 'none') {{\n",
              "            console.log([gd, 'removed!']);\n",
              "            Plotly.purge(gd);\n",
              "            observer.disconnect();\n",
              "        }}\n",
              "}});\n",
              "\n",
              "// Listen for the removal of the full notebook cells\n",
              "var notebookContainer = gd.closest('#notebook-container');\n",
              "if (notebookContainer) {{\n",
              "    x.observe(notebookContainer, {childList: true});\n",
              "}}\n",
              "\n",
              "// Listen for the clearing of the current output cell\n",
              "var outputEl = gd.closest('.output');\n",
              "if (outputEl) {{\n",
              "    x.observe(outputEl, {childList: true});\n",
              "}}\n",
              "\n",
              "                        })\n",
              "                };\n",
              "                \n",
              "            </script>\n",
              "        </div>\n",
              "</body>\n",
              "</html>"
            ]
          },
          "metadata": {},
          "output_type": "display_data"
        }
      ],
      "source": [
        "#B - Performing PCA\n",
        "\n",
        "# Split iris dataframe\n",
        "iris_feat = df_iris.drop(columns=['class'])\n",
        "iris_class = df_iris['class']\n",
        "\n",
        "# Standardization\n",
        "iris_feat = StandardScaler().fit_transform(iris_feat)\n",
        "iris_feat = pd.DataFrame(iris_feat)\n",
        "\n",
        "# Singular Value Decomposition\n",
        "u,s,v = np.linalg.svd(iris_feat)\n",
        "\n",
        "# Estimate singular values\n",
        "singular_values = s*s/(iris_feat.shape[0]-1)\n",
        "\n",
        "# Generate PCA in 2D take top 2  singular values and eigenvectors\n",
        "# Data in reduced dimension\n",
        "iris_feat_PCA = np.matmul (np.array (iris_feat), v.T[ :,:2]) #Projection Matrix:  v.T[:,:2]\n",
        "\n",
        "# Visualize the samples in reduced space\n",
        "iris_PCA_out = pd.concat([pd.DataFrame( iris_feat_PCA),pd.DataFrame( df_iris['class'])], axis=1)\n",
        "iris_PCA_out = iris_PCA_out.rename(columns={0:\"PC 1\",1:\"PC 2\"})\n",
        "\n",
        "#Visualising the data-points of the Iris Dataset in 2D by projecting the data onto the top two PCs\n",
        "fig = px.scatter(iris_PCA_out, x='PC 1' , y='PC 2', color='class', template='plotly_white',\n",
        "                 title=\"PCA\")\n",
        "fig.update_layout(title_x=0.4)\n",
        "fig.show()\n"
      ]
    },
    {
      "cell_type": "markdown",
      "metadata": {
        "id": "6_exySLFuOPD"
      },
      "source": [
        "**Part C - K means Clustering**"
      ]
    },
    {
      "cell_type": "code",
      "execution_count": 13,
      "metadata": {
        "id": "jxzcPTAjWL2I"
      },
      "outputs": [],
      "source": [
        "# K-means Clustering\n",
        "\n",
        "#C.1 \n",
        "\n",
        "#Use k-means model to predict cluster for initialisation\n",
        "\n",
        "data_init=iris_PCA_out.drop(columns=['class'])\n",
        "\n",
        "kmeans = KMeans(n_clusters=3)\n",
        "kmeans.fit(data_init)\n",
        "\n",
        "#predictions from kmeans\n",
        "\n",
        "pred = kmeans.predict(data_init)\n",
        "init_cluster = pd.DataFrame(data_init)\n",
        "init_cluster['cluster'] = pred\n",
        "\n",
        "init_cluster.columns = ['PC1', 'PC2', 'cluster']\n",
        "\n",
        "#Cluster centers for GMM intialisation\n",
        "mu_init= kmeans.cluster_centers_\n",
        "\n",
        "#Create weighting, n by k weighting matrix for cluster probs based on KNN initialisation\n",
        "n_clus=3\n",
        "cluster_prob_init= np.zeros((data_init.shape[0], n_clus))\n",
        "\n",
        "for i in range(data_init.shape[0]):\n",
        "  cluster_assign=data_init.loc[i,\"cluster\"] \n",
        "  cluster_prob_init[i,cluster_assign]=1           \n",
        "\n",
        "clus_weights_init= np.empty((1,3), int)\n",
        "for i in range(n_clus):\n",
        "  clus_weights_init[0,i]=sum(init_cluster.cluster == i)\n",
        "\n",
        "phi_init=clus_weights_init/clus_weights_init.sum()\n"
      ]
    },
    {
      "cell_type": "markdown",
      "metadata": {
        "id": "XbdbWyN6uYAe"
      },
      "source": [
        "**Visualizing the cluster assignment provided by K-means**"
      ]
    },
    {
      "cell_type": "code",
      "execution_count": null,
      "metadata": {
        "colab": {
          "base_uri": "https://localhost:8080/",
          "height": 542
        },
        "id": "mf_mNpW_zNPc",
        "outputId": "4d98e904-699d-4418-898a-74bb82becc2f"
      },
      "outputs": [
        {
          "data": {
            "text/html": [
              "<html>\n",
              "<head><meta charset=\"utf-8\" /></head>\n",
              "<body>\n",
              "    <div>\n",
              "            <script src=\"https://cdnjs.cloudflare.com/ajax/libs/mathjax/2.7.5/MathJax.js?config=TeX-AMS-MML_SVG\"></script><script type=\"text/javascript\">if (window.MathJax) {MathJax.Hub.Config({SVG: {font: \"STIX-Web\"}});}</script>\n",
              "                <script type=\"text/javascript\">window.PlotlyConfig = {MathJaxConfig: 'local'};</script>\n",
              "        <script src=\"https://cdn.plot.ly/plotly-latest.min.js\"></script>    \n",
              "            <div id=\"af8ce95c-56f3-4eff-8c30-ab4bb92b2c41\" class=\"plotly-graph-div\" style=\"height:525px; width:100%;\"></div>\n",
              "            <script type=\"text/javascript\">\n",
              "                \n",
              "                    window.PLOTLYENV=window.PLOTLYENV || {};\n",
              "                    \n",
              "                if (document.getElementById(\"af8ce95c-56f3-4eff-8c30-ab4bb92b2c41\")) {\n",
              "                    Plotly.newPlot(\n",
              "                        'af8ce95c-56f3-4eff-8c30-ab4bb92b2c41',\n",
              "                        [{\"hoverlabel\": {\"namelength\": 0}, \"hovertemplate\": \"species=Iris-setosa<br>PC1=%{x}<br>PC2=%{y}\", \"legendgroup\": \"species=Iris-setosa\", \"marker\": {\"color\": \"#636EFA\", \"symbol\": \"circle\"}, \"mode\": \"markers\", \"name\": \"species=Iris-setosa\", \"showlegend\": true, \"type\": \"scatter\", \"x\": [-2.2645417283948994, -2.0864255006161585, -2.3679504490625254, -2.304197161152009, -2.388777493505641, -2.0705368071805523, -2.4457113396302828, -2.2338418587092654, -2.3419576764553898, -2.1886757552808698, -2.163486556266522, -2.3273777541343734, -2.224082722045002, -2.6397162608446294, -2.1922915084984282, -2.2514652145840635, -2.2027504800800846, -2.1901791637910515, -1.8940742930236674, -2.3399490704234074, -1.9145563949595168, -2.2046453975338127, -2.774169793705156, -1.8204115633372135, -2.2282174994597246, -1.9570240073413971, -2.052063311276686, -2.1681936533450203, -2.140305963284157, -2.268790194387876, -2.1445544292771346, -1.8319381022015868, -2.608202867663346, -2.437950859095141, -2.1886757552808698, -2.211119896812422, -2.0444165193198, -2.1886757552808698, -2.4359522029660194, -2.1705472018842698, -2.2865272388409297, -1.8717072235369516, -2.557834419537512, -1.9642792903547368, -2.1333728329200268, -2.0753575928373063, -2.381258216802372, -2.398191687662638, -2.2267812130915177, -2.205954168648402], \"xaxis\": \"x\", \"y\": [-0.5057039027737842, 0.6554047293691371, 0.31847731084724934, 0.5753677125331955, -0.674767396702515, -1.5185485598885125, -0.07456267500687402, -0.2476139317522648, 1.0951463625829554, 0.4486290483375595, -1.0705955760377257, -0.15858745465947582, 0.7091181580302267, 0.9382819821078541, -1.8899785123164645, -2.7223710765744684, -1.513750282546218, -0.5143043082206924, -1.4311107069412359, -1.1580334289850007, -0.43046516328013734, -0.9524573172889979, -0.489517026503495, -0.10675079283540581, -0.16218616266619681, 0.6078925674838085, -0.2660143119816548, -0.5520164953235392, -0.3366404088450537, 0.3148786028405283, 0.48394209676925914, -0.4452668355028063, -1.8284751927341008, -2.185391615630892, 0.4486290483375595, 0.18433781054027923, -0.6849564262949358, 0.4486290483375595, 0.8821694147756171, -0.2927269549664459, -0.46799171567093767, 2.32769160611491, 0.45381638048979306, -0.4973916400183833, -1.1714321117742037, 0.6919173471364103, -1.1506325928736663, 0.3623907647258572, -1.025482552823544, -0.032237845273779125], \"yaxis\": \"y\"}, {\"hoverlabel\": {\"namelength\": 0}, \"hovertemplate\": \"species=Iris-virginica<br>PC1=%{x}<br>PC2=%{y}\", \"legendgroup\": \"species=Iris-virginica\", \"marker\": {\"color\": \"#00CC96\", \"symbol\": \"circle\"}, \"mode\": \"markers\", \"name\": \"species=Iris-virginica\", \"showlegend\": true, \"type\": \"scatter\", \"x\": [1.1039936528045722, 0.7324814400086808, 1.2421095053189375, 0.748715075951553, 0.8758905359406828, 0.7382561043698961, 0.8735369874014333, 1.2542221905224493, 1.3582398473872714, 0.43178316074105383, 1.04941335521918, 1.8476725943096644, 2.206349497126593, 1.4386854023261815, 1.8678907025555844, 2.754196708825752, 2.3030058981503188, 2.0017352992189155, 2.2675545991022688, 1.3659094292022143, 1.5990645856518686, 1.884251853752074, 1.591809302638529, 1.4712801894655434, 2.437378482193509, 3.3091411826760786, 2.040496259663039, 2.898064435843276, 1.704240708519606, 1.9577276617934352, 1.0197810528162627, 1.7860088612484677, 1.8647779127074657, 2.4354973914151423, 2.3160824119611547, 1.8603714258523156, 2.8009494037340286, 1.5801552485205375, 1.3470444243548019, 1.8535519840664405, 2.016157200677759, 1.9031168585994869, 2.0433084392878094, 2.001690966934998, 1.8705220714601252, 1.5208450639985902, 1.3763911906419284], \"xaxis\": \"x\", \"y\": [-0.8631124458513227, -0.5986355733419962, -0.6148224496122853, -0.7786986113887812, -0.5099981510591461, -0.40247038161853543, -0.25070861070205264, 0.08262009981311401, -0.3288202662704008, -0.8551369202180021, -0.5221972645127754, -0.8716966617734125, -0.5544701049349213, 0.050010522268886366, -0.2911928017611684, -0.7884322063548433, -0.40951669522194206, 0.7238653593126605, -1.921442991465354, -0.6939480398041603, 0.4282488359003405, -0.41433275795008295, -0.677035371601851, -0.2531924719668146, -2.5567573414948006, 0.0023613201020845995, -0.907398765015052, -0.39779135917186653, -1.0141484248357842, -1.0033345154297757, -0.06554296309664738, 0.19327279985689214, -0.5553815315789882, -0.2466544680689725, -2.626183869022626, 0.18467239440998395, -0.8447481937849729, -1.0724744961271218, -0.4222559658955455, -0.6724227289716028, -0.6103970375551121, -0.6860248318586981, -0.8646848804720179, -1.048550046623417, -0.3828218376229973, -0.26679457485391, -1.016361928794885], \"yaxis\": \"y\"}, {\"hoverlabel\": {\"namelength\": 0}, \"hovertemplate\": \"species=Iris-versicolor<br>PC1=%{x}<br>PC2=%{y}\", \"legendgroup\": \"species=Iris-versicolor\", \"marker\": {\"color\": \"#EF553B\", \"symbol\": \"circle\"}, \"mode\": \"markers\", \"name\": \"species=Iris-versicolor\", \"showlegend\": true, \"type\": \"scatter\", \"x\": [0.39730728282332634, 1.0725939482015445, 0.38445814616900126, -0.49786338779811856, 0.9262223675330977, 0.0049680255843190385, -0.1246974613803719, 0.4387301177805466, 0.5516339814225064, 0.717165066236851, -0.03725838296568851, 0.34800640198020855, 0.1533925445686665, 1.2153032092161529, 0.15694117564424995, 0.47236968234456794, 1.2279882140834417, 0.6293810453149015, 0.7004727992084578, 0.6621261375659374, -0.04728151331988073, 0.12153420888011794, 0.014118226051386977, 0.23601083732659633, 1.0566914280905761, 0.2214170883302179, 1.035878210322823, 0.06706759987298029, 0.2754250662518336, 0.2723350662617716, 0.6231705397262214, 0.33000536383722584, -0.37362762268737687, 0.2829443429551024, 0.08905311031901139, 0.22435678320860583, 0.5738834855584666, -0.4570128725046754, 0.2522444732694689, 1.1531898082521288, 0.35837447484166757, 1.2530865143775913, 1.4640615229856224, 1.253980986690577, 0.9739151144704735, 1.3291936913234927, 1.1719045079878683, 1.1112717256759688, 1.1974691551180372, 0.9234329777663841, 1.1531898082521288, 1.5584918907237164, 0.9592985756160379], \"xaxis\": \"x\", \"y\": [1.7581689474435267, 0.2117579026798969, 0.591062468622737, 1.8488687712754428, -0.03033082678337979, 1.0294011124030882, 2.658062677961761, 0.058881285021455086, 1.772581564856256, 0.18543431450504475, 0.43279509871416955, 0.19062164665727824, 0.7907254562344861, 1.633355644515484, 1.3031032701729117, 0.41660822244388046, 0.9409147925302734, 0.41681164254177305, 0.06349392765170343, 0.22434607094346495, 1.057212412605021, 1.5635923798655786, 1.5733923546480604, 0.7759237840118172, 0.6369012837689377, 0.2808476930856405, 1.392466484387782, 0.2126207348933893, 1.3298159131577028, 1.1194415241194045, -0.027542633302293573, 0.9889007318191555, 2.0179322652041733, 0.8539507169865506, 0.1749085477905423, 0.38048465948654603, 0.15371997408006607, 1.539464510263981, 0.5958607459650317, 0.7013261138565757, 1.5600945839772893, 1.1673913352452463, 0.4441475694791238, 1.7175838442659783, 0.5711743763662664, 0.48676054190372486, 0.3188966173105686, 0.2959861024303912, 0.8171677419136167, -0.019230370546892604, 0.7013261138565757, 0.905313601407067, 0.022283944660567524], \"yaxis\": \"y\"}, {\"marker\": {\"color\": \"black\", \"size\": 10}, \"mode\": \"markers\", \"name\": \"centroids\", \"type\": \"scatter\", \"x\": [1.722369118233138, -2.2201932809264653, 0.5671380281012409], \"y\": [-0.5999050894898016, -0.292224819666673, 0.807675097912348]}, {\"marker\": {\"color\": \"white\", \"line\": {\"color\": \"black\", \"width\": 1}, \"opacity\": 0.2, \"size\": 170}, \"mode\": \"markers\", \"showlegend\": false, \"type\": \"scatter\", \"x\": [1.722369118233138], \"y\": [-0.5999050894898016]}, {\"marker\": {\"color\": \"white\", \"line\": {\"color\": \"black\", \"width\": 1}, \"opacity\": 0.2, \"size\": 190}, \"mode\": \"markers\", \"showlegend\": false, \"type\": \"scatter\", \"x\": [-2.2201932809264653], \"y\": [-0.292224819666673]}, {\"marker\": {\"color\": \"white\", \"line\": {\"color\": \"black\", \"width\": 1}, \"opacity\": 0.2, \"size\": 200}, \"mode\": \"markers\", \"showlegend\": false, \"type\": \"scatter\", \"x\": [0.5671380281012409], \"y\": [0.807675097912348]}],\n",
              "                        {\"legend\": {\"tracegroupgap\": 0}, \"template\": {\"data\": {\"bar\": [{\"error_x\": {\"color\": \"#2a3f5f\"}, \"error_y\": {\"color\": \"#2a3f5f\"}, \"marker\": {\"line\": {\"color\": \"white\", \"width\": 0.5}}, \"type\": \"bar\"}], \"barpolar\": [{\"marker\": {\"line\": {\"color\": \"white\", \"width\": 0.5}}, \"type\": \"barpolar\"}], \"carpet\": [{\"aaxis\": {\"endlinecolor\": \"#2a3f5f\", \"gridcolor\": \"#C8D4E3\", \"linecolor\": \"#C8D4E3\", \"minorgridcolor\": \"#C8D4E3\", \"startlinecolor\": \"#2a3f5f\"}, \"baxis\": {\"endlinecolor\": \"#2a3f5f\", \"gridcolor\": \"#C8D4E3\", \"linecolor\": \"#C8D4E3\", \"minorgridcolor\": \"#C8D4E3\", \"startlinecolor\": \"#2a3f5f\"}, \"type\": \"carpet\"}], \"choropleth\": [{\"colorbar\": {\"outlinewidth\": 0, \"ticks\": \"\"}, \"type\": \"choropleth\"}], \"contour\": [{\"colorbar\": {\"outlinewidth\": 0, \"ticks\": \"\"}, \"colorscale\": [[0.0, \"#0d0887\"], [0.1111111111111111, \"#46039f\"], [0.2222222222222222, \"#7201a8\"], [0.3333333333333333, \"#9c179e\"], [0.4444444444444444, \"#bd3786\"], [0.5555555555555556, \"#d8576b\"], [0.6666666666666666, \"#ed7953\"], [0.7777777777777778, \"#fb9f3a\"], [0.8888888888888888, \"#fdca26\"], [1.0, \"#f0f921\"]], \"type\": \"contour\"}], \"contourcarpet\": [{\"colorbar\": {\"outlinewidth\": 0, \"ticks\": \"\"}, \"type\": \"contourcarpet\"}], \"heatmap\": [{\"colorbar\": {\"outlinewidth\": 0, \"ticks\": \"\"}, \"colorscale\": [[0.0, \"#0d0887\"], [0.1111111111111111, \"#46039f\"], [0.2222222222222222, \"#7201a8\"], [0.3333333333333333, \"#9c179e\"], [0.4444444444444444, \"#bd3786\"], [0.5555555555555556, \"#d8576b\"], [0.6666666666666666, \"#ed7953\"], [0.7777777777777778, \"#fb9f3a\"], [0.8888888888888888, \"#fdca26\"], [1.0, \"#f0f921\"]], \"type\": \"heatmap\"}], \"heatmapgl\": [{\"colorbar\": {\"outlinewidth\": 0, \"ticks\": \"\"}, \"colorscale\": [[0.0, \"#0d0887\"], [0.1111111111111111, \"#46039f\"], [0.2222222222222222, \"#7201a8\"], [0.3333333333333333, \"#9c179e\"], [0.4444444444444444, \"#bd3786\"], [0.5555555555555556, \"#d8576b\"], [0.6666666666666666, \"#ed7953\"], [0.7777777777777778, \"#fb9f3a\"], [0.8888888888888888, \"#fdca26\"], [1.0, \"#f0f921\"]], \"type\": \"heatmapgl\"}], \"histogram\": [{\"marker\": {\"colorbar\": {\"outlinewidth\": 0, \"ticks\": \"\"}}, \"type\": \"histogram\"}], \"histogram2d\": [{\"colorbar\": {\"outlinewidth\": 0, \"ticks\": \"\"}, \"colorscale\": [[0.0, \"#0d0887\"], [0.1111111111111111, \"#46039f\"], [0.2222222222222222, \"#7201a8\"], [0.3333333333333333, \"#9c179e\"], [0.4444444444444444, \"#bd3786\"], [0.5555555555555556, \"#d8576b\"], [0.6666666666666666, \"#ed7953\"], [0.7777777777777778, \"#fb9f3a\"], [0.8888888888888888, \"#fdca26\"], [1.0, \"#f0f921\"]], \"type\": \"histogram2d\"}], \"histogram2dcontour\": [{\"colorbar\": {\"outlinewidth\": 0, \"ticks\": \"\"}, \"colorscale\": [[0.0, \"#0d0887\"], [0.1111111111111111, \"#46039f\"], [0.2222222222222222, \"#7201a8\"], [0.3333333333333333, \"#9c179e\"], [0.4444444444444444, \"#bd3786\"], [0.5555555555555556, \"#d8576b\"], [0.6666666666666666, \"#ed7953\"], [0.7777777777777778, \"#fb9f3a\"], [0.8888888888888888, \"#fdca26\"], [1.0, \"#f0f921\"]], \"type\": \"histogram2dcontour\"}], \"mesh3d\": [{\"colorbar\": {\"outlinewidth\": 0, \"ticks\": \"\"}, \"type\": \"mesh3d\"}], \"parcoords\": [{\"line\": {\"colorbar\": {\"outlinewidth\": 0, \"ticks\": \"\"}}, \"type\": \"parcoords\"}], \"pie\": [{\"automargin\": true, \"type\": \"pie\"}], \"scatter\": [{\"marker\": {\"colorbar\": {\"outlinewidth\": 0, \"ticks\": \"\"}}, \"type\": \"scatter\"}], \"scatter3d\": [{\"line\": {\"colorbar\": {\"outlinewidth\": 0, \"ticks\": \"\"}}, \"marker\": {\"colorbar\": {\"outlinewidth\": 0, \"ticks\": \"\"}}, \"type\": \"scatter3d\"}], \"scattercarpet\": [{\"marker\": {\"colorbar\": {\"outlinewidth\": 0, \"ticks\": \"\"}}, \"type\": \"scattercarpet\"}], \"scattergeo\": [{\"marker\": {\"colorbar\": {\"outlinewidth\": 0, \"ticks\": \"\"}}, \"type\": \"scattergeo\"}], \"scattergl\": [{\"marker\": {\"colorbar\": {\"outlinewidth\": 0, \"ticks\": \"\"}}, \"type\": \"scattergl\"}], \"scattermapbox\": [{\"marker\": {\"colorbar\": {\"outlinewidth\": 0, \"ticks\": \"\"}}, \"type\": \"scattermapbox\"}], \"scatterpolar\": [{\"marker\": {\"colorbar\": {\"outlinewidth\": 0, \"ticks\": \"\"}}, \"type\": \"scatterpolar\"}], \"scatterpolargl\": [{\"marker\": {\"colorbar\": {\"outlinewidth\": 0, \"ticks\": \"\"}}, \"type\": \"scatterpolargl\"}], \"scatterternary\": [{\"marker\": {\"colorbar\": {\"outlinewidth\": 0, \"ticks\": \"\"}}, \"type\": \"scatterternary\"}], \"surface\": [{\"colorbar\": {\"outlinewidth\": 0, \"ticks\": \"\"}, \"colorscale\": [[0.0, \"#0d0887\"], [0.1111111111111111, \"#46039f\"], [0.2222222222222222, \"#7201a8\"], [0.3333333333333333, \"#9c179e\"], [0.4444444444444444, \"#bd3786\"], [0.5555555555555556, \"#d8576b\"], [0.6666666666666666, \"#ed7953\"], [0.7777777777777778, \"#fb9f3a\"], [0.8888888888888888, \"#fdca26\"], [1.0, \"#f0f921\"]], \"type\": \"surface\"}], \"table\": [{\"cells\": {\"fill\": {\"color\": \"#EBF0F8\"}, \"line\": {\"color\": \"white\"}}, \"header\": {\"fill\": {\"color\": \"#C8D4E3\"}, \"line\": {\"color\": \"white\"}}, \"type\": \"table\"}]}, \"layout\": {\"annotationdefaults\": {\"arrowcolor\": \"#2a3f5f\", \"arrowhead\": 0, \"arrowwidth\": 1}, \"coloraxis\": {\"colorbar\": {\"outlinewidth\": 0, \"ticks\": \"\"}}, \"colorscale\": {\"diverging\": [[0, \"#8e0152\"], [0.1, \"#c51b7d\"], [0.2, \"#de77ae\"], [0.3, \"#f1b6da\"], [0.4, \"#fde0ef\"], [0.5, \"#f7f7f7\"], [0.6, \"#e6f5d0\"], [0.7, \"#b8e186\"], [0.8, \"#7fbc41\"], [0.9, \"#4d9221\"], [1, \"#276419\"]], \"sequential\": [[0.0, \"#0d0887\"], [0.1111111111111111, \"#46039f\"], [0.2222222222222222, \"#7201a8\"], [0.3333333333333333, \"#9c179e\"], [0.4444444444444444, \"#bd3786\"], [0.5555555555555556, \"#d8576b\"], [0.6666666666666666, \"#ed7953\"], [0.7777777777777778, \"#fb9f3a\"], [0.8888888888888888, \"#fdca26\"], [1.0, \"#f0f921\"]], \"sequentialminus\": [[0.0, \"#0d0887\"], [0.1111111111111111, \"#46039f\"], [0.2222222222222222, \"#7201a8\"], [0.3333333333333333, \"#9c179e\"], [0.4444444444444444, \"#bd3786\"], [0.5555555555555556, \"#d8576b\"], [0.6666666666666666, \"#ed7953\"], [0.7777777777777778, \"#fb9f3a\"], [0.8888888888888888, \"#fdca26\"], [1.0, \"#f0f921\"]]}, \"colorway\": [\"#636efa\", \"#EF553B\", \"#00cc96\", \"#ab63fa\", \"#FFA15A\", \"#19d3f3\", \"#FF6692\", \"#B6E880\", \"#FF97FF\", \"#FECB52\"], \"font\": {\"color\": \"#2a3f5f\"}, \"geo\": {\"bgcolor\": \"white\", \"lakecolor\": \"white\", \"landcolor\": \"white\", \"showlakes\": true, \"showland\": true, \"subunitcolor\": \"#C8D4E3\"}, \"hoverlabel\": {\"align\": \"left\"}, \"hovermode\": \"closest\", \"mapbox\": {\"style\": \"light\"}, \"paper_bgcolor\": \"white\", \"plot_bgcolor\": \"white\", \"polar\": {\"angularaxis\": {\"gridcolor\": \"#EBF0F8\", \"linecolor\": \"#EBF0F8\", \"ticks\": \"\"}, \"bgcolor\": \"white\", \"radialaxis\": {\"gridcolor\": \"#EBF0F8\", \"linecolor\": \"#EBF0F8\", \"ticks\": \"\"}}, \"scene\": {\"xaxis\": {\"backgroundcolor\": \"white\", \"gridcolor\": \"#DFE8F3\", \"gridwidth\": 2, \"linecolor\": \"#EBF0F8\", \"showbackground\": true, \"ticks\": \"\", \"zerolinecolor\": \"#EBF0F8\"}, \"yaxis\": {\"backgroundcolor\": \"white\", \"gridcolor\": \"#DFE8F3\", \"gridwidth\": 2, \"linecolor\": \"#EBF0F8\", \"showbackground\": true, \"ticks\": \"\", \"zerolinecolor\": \"#EBF0F8\"}, \"zaxis\": {\"backgroundcolor\": \"white\", \"gridcolor\": \"#DFE8F3\", \"gridwidth\": 2, \"linecolor\": \"#EBF0F8\", \"showbackground\": true, \"ticks\": \"\", \"zerolinecolor\": \"#EBF0F8\"}}, \"shapedefaults\": {\"line\": {\"color\": \"#2a3f5f\"}}, \"ternary\": {\"aaxis\": {\"gridcolor\": \"#DFE8F3\", \"linecolor\": \"#A2B1C6\", \"ticks\": \"\"}, \"baxis\": {\"gridcolor\": \"#DFE8F3\", \"linecolor\": \"#A2B1C6\", \"ticks\": \"\"}, \"bgcolor\": \"white\", \"caxis\": {\"gridcolor\": \"#DFE8F3\", \"linecolor\": \"#A2B1C6\", \"ticks\": \"\"}}, \"title\": {\"x\": 0.05}, \"xaxis\": {\"automargin\": true, \"gridcolor\": \"#EBF0F8\", \"linecolor\": \"#EBF0F8\", \"ticks\": \"\", \"title\": {\"standoff\": 15}, \"zerolinecolor\": \"#EBF0F8\", \"zerolinewidth\": 2}, \"yaxis\": {\"automargin\": true, \"gridcolor\": \"#EBF0F8\", \"linecolor\": \"#EBF0F8\", \"ticks\": \"\", \"title\": {\"standoff\": 15}, \"zerolinecolor\": \"#EBF0F8\", \"zerolinewidth\": 2}}}, \"title\": {\"text\": \"K-means Clustering\"}, \"xaxis\": {\"anchor\": \"y\", \"domain\": [0.0, 1.0], \"title\": {\"text\": \"PC1\"}}, \"yaxis\": {\"anchor\": \"x\", \"domain\": [0.0, 1.0], \"title\": {\"text\": \"PC2\"}}},\n",
              "                        {\"responsive\": true}\n",
              "                    ).then(function(){\n",
              "                            \n",
              "var gd = document.getElementById('af8ce95c-56f3-4eff-8c30-ab4bb92b2c41');\n",
              "var x = new MutationObserver(function (mutations, observer) {{\n",
              "        var display = window.getComputedStyle(gd).display;\n",
              "        if (!display || display === 'none') {{\n",
              "            console.log([gd, 'removed!']);\n",
              "            Plotly.purge(gd);\n",
              "            observer.disconnect();\n",
              "        }}\n",
              "}});\n",
              "\n",
              "// Listen for the removal of the full notebook cells\n",
              "var notebookContainer = gd.closest('#notebook-container');\n",
              "if (notebookContainer) {{\n",
              "    x.observe(notebookContainer, {childList: true});\n",
              "}}\n",
              "\n",
              "// Listen for the clearing of the current output cell\n",
              "var outputEl = gd.closest('.output');\n",
              "if (outputEl) {{\n",
              "    x.observe(outputEl, {childList: true});\n",
              "}}\n",
              "\n",
              "                        })\n",
              "                };\n",
              "                \n",
              "            </script>\n",
              "        </div>\n",
              "</body>\n",
              "</html>"
            ]
          },
          "metadata": {},
          "output_type": "display_data"
        }
      ],
      "source": [
        "init_cluster_copy = init_cluster.copy()\n",
        "\n",
        "init_cluster_copy[\"cluster\"] = init_cluster_copy[\"cluster\"].astype(str)\n",
        "\n",
        "#matching cluster assignment to its corresponding Iris species  \n",
        "cond= [init_cluster_copy[\"cluster\"] ==\"1\",  init_cluster_copy[\"cluster\"] ==\"0\",  init_cluster_copy[\"cluster\"] ==\"2\" ]\n",
        "choice= [ \"Iris-setosa\", 'Iris-virginica', 'Iris-versicolor' ]\n",
        "    \n",
        "init_cluster_copy[\"species\"] = np.select(cond, choice, default=np.nan)\n",
        "\n",
        "#Using Plotly to visualise the K means cluster assignment\n",
        "\n",
        "fig = px.scatter(init_cluster_copy, x=\"PC1\", y=\"PC2\", color=\"species\", color_discrete_map={\"Iris-versicolor\": '#EF553B', \"Iris-virginica\": '#00CC96', \"Iris-setosa\":\"#636EFA\"},\n",
        "                 title=\"K-means Clustering\", template=\"plotly_white\")\n",
        "\n",
        "#Adding centroids to the scatterplot\n",
        "fig.add_trace(\n",
        "    go.Scatter(\n",
        "        x=kmeans.cluster_centers_[:,0], y=kmeans.cluster_centers_[:,1], mode=\"markers\",\n",
        "        marker=dict(size=10, color=\"black\"),\n",
        "        name=\"centroids\")\n",
        ")\n",
        "#Adding circles to represent the shape of the clusters \n",
        "fig.add_trace(\n",
        "    go.Scatter(\n",
        "        mode='markers',\n",
        "        x=[kmeans.cluster_centers_[0,0]], y=[kmeans.cluster_centers_[0,1]],\n",
        "        marker=dict(\n",
        "            color='white',\n",
        "            opacity=0.2,\n",
        "            size=170,\n",
        "            line=dict(\n",
        "                color='black',\n",
        "                width=1,\n",
        "            )\n",
        "        ),\n",
        "        showlegend=False\n",
        "    )\n",
        ")\n",
        "\n",
        "fig.add_trace(\n",
        "    go.Scatter(\n",
        "        mode='markers',\n",
        "        x=[kmeans.cluster_centers_[1,0]], y=[kmeans.cluster_centers_[1,1]],\n",
        "        marker=dict(\n",
        "            color='white',\n",
        "            opacity=0.2,\n",
        "            size=190,\n",
        "            line=dict(\n",
        "                color='black',\n",
        "                width=1,\n",
        "            )\n",
        "        ),\n",
        "        showlegend=False\n",
        "    )\n",
        ")\n",
        "fig.add_trace(\n",
        "    go.Scatter(\n",
        "        mode='markers',\n",
        "        x=[kmeans.cluster_centers_[2,0]], y=[kmeans.cluster_centers_[2,1]],\n",
        "        marker=dict(\n",
        "            color='white',\n",
        "            opacity=0.2,\n",
        "            size=200,\n",
        "            line=dict(\n",
        "                color='black',\n",
        "                width=1,\n",
        "            )\n",
        "        ),\n",
        "        showlegend=False\n",
        "    )\n",
        ")\n",
        "\n",
        "fig.show()"
      ]
    },
    {
      "cell_type": "markdown",
      "metadata": {
        "id": "cukbS1Ucydmi"
      },
      "source": [
        "**Calculating K-means clustering accuracy**"
      ]
    },
    {
      "cell_type": "code",
      "execution_count": 81,
      "metadata": {
        "colab": {
          "base_uri": "https://localhost:8080/"
        },
        "id": "3vKj7AWlxr0r",
        "outputId": "90d6e8c6-32c1-4786-bef6-27768f401a9f"
      },
      "outputs": [
        {
          "name": "stdout",
          "output_type": "stream",
          "text": [
            "              precision    recall  f1-score   support\n",
            "\n",
            "           0       0.77      0.72      0.74        50\n",
            "           1       1.00      1.00      1.00        50\n",
            "           2       0.74      0.78      0.76        50\n",
            "\n",
            "    accuracy                           0.83       150\n",
            "   macro avg       0.83      0.83      0.83       150\n",
            "weighted avg       0.83      0.83      0.83       150\n",
            "\n"
          ]
        }
      ],
      "source": [
        "#Kmeans accuracy score\n",
        "\n",
        "target_names = ['0', '1', '2']\n",
        "#Classification report\n",
        "print(classification_report(iris_PCA_out_copy['class2'],kmeans.labels_,target_names=target_names))\n",
        "\n",
        "\n",
        "#assigning iris species to cluster assignment to calculate accuracy of k means clustering compared to ground truth labels\n",
        "iris_PCA_out_copy = iris_PCA_out.copy()\n",
        "iris_PCA_out_copy= iris_PCA_out_copy.rename(columns={\"class\": \"species\"})\n",
        "init_cluster_copy2 = init_cluster_copy.drop(columns=['PC1',\"PC2\"])\n",
        "init_cluster_copy2 = init_cluster_copy2.drop_duplicates()\n",
        "iris_PCA_out_copy = pd.merge(iris_PCA_out_copy, init_cluster_copy2, on=\"species\")\n",
        "iris_PCA_out_copy= iris_PCA_out_copy.rename(columns={\"species\": \"class\"})\n",
        "iris_PCA_out_copy= iris_PCA_out_copy.rename(columns={\"cluster\": \"class2\"})\n",
        "iris_PCA_out_copy[\"class2\"] = pd.to_numeric(iris_PCA_out_copy[\"class2\"])\n",
        "\n",
        "\n",
        "iris_accuracy = pd.concat([iris_PCA_out_copy.reset_index(drop=True), pd.DataFrame(kmeans.labels_)], axis=1)\n",
        "iris_accuracy = iris_accuracy.rename(columns = {0:'km_class'})\n",
        "\n",
        "iris_accuracy = iris_accuracy.copy()\n",
        "\n",
        "iris_accuracy['Same'] = np.where( iris_accuracy['class2'] == iris_accuracy['km_class'] , 1, 0)\n",
        "\n",
        "iris_accuracy_out = pd.DataFrame(columns=['Total', 'Iris-setosa', 'Iris-versicolor', 'Iris-virginica'])\n",
        "\n",
        "iris_accuracy_out.loc[0,'Total'] = iris_accuracy['Same'].sum()/150 \n",
        "\n",
        "iris_accuracy_out.loc[0,'Iris-setosa'] = iris_accuracy[iris_accuracy['class'] =='Iris-setosa']['Same'].sum()/50 \n",
        "iris_accuracy_out.loc[0,'Iris-versicolor'] = iris_accuracy[iris_accuracy['class'] =='Iris-versicolor']['Same'].sum()/50 \n",
        "iris_accuracy_out.loc[0,'Iris-virginica'] = iris_accuracy[iris_accuracy['class'] =='Iris-virginica']['Same'].sum()/50 \n",
        "\n",
        "\n",
        "\n",
        "\n"
      ]
    },
    {
      "cell_type": "code",
      "execution_count": 82,
      "metadata": {
        "colab": {
          "base_uri": "https://localhost:8080/",
          "height": 80
        },
        "id": "_H8-KKbx2Z98",
        "outputId": "7c9222c3-aed1-46f9-e4f4-f21e056db05a"
      },
      "outputs": [
        {
          "data": {
            "text/html": [
              "<div>\n",
              "<style scoped>\n",
              "    .dataframe tbody tr th:only-of-type {\n",
              "        vertical-align: middle;\n",
              "    }\n",
              "\n",
              "    .dataframe tbody tr th {\n",
              "        vertical-align: top;\n",
              "    }\n",
              "\n",
              "    .dataframe thead th {\n",
              "        text-align: right;\n",
              "    }\n",
              "</style>\n",
              "<table border=\"1\" class=\"dataframe\">\n",
              "  <thead>\n",
              "    <tr style=\"text-align: right;\">\n",
              "      <th></th>\n",
              "      <th>Total</th>\n",
              "      <th>Iris-setosa</th>\n",
              "      <th>Iris-versicolor</th>\n",
              "      <th>Iris-virginica</th>\n",
              "    </tr>\n",
              "  </thead>\n",
              "  <tbody>\n",
              "    <tr>\n",
              "      <th>0</th>\n",
              "      <td>0.833333</td>\n",
              "      <td>1</td>\n",
              "      <td>0.78</td>\n",
              "      <td>0.72</td>\n",
              "    </tr>\n",
              "  </tbody>\n",
              "</table>\n",
              "</div>"
            ],
            "text/plain": [
              "      Total Iris-setosa Iris-versicolor Iris-virginica\n",
              "0  0.833333           1            0.78           0.72"
            ]
          },
          "execution_count": 82,
          "metadata": {},
          "output_type": "execute_result"
        }
      ],
      "source": [
        "#Basic accuracy of K means cluster assignment compared to ground truth labels\n",
        "iris_accuracy_out\n"
      ]
    },
    {
      "cell_type": "markdown",
      "metadata": {
        "id": "zb2P6bEFGdYg"
      },
      "source": [
        "**Clustering using GMM and EM algorithm**"
      ]
    },
    {
      "cell_type": "code",
      "execution_count": 134,
      "metadata": {
        "id": "M6Mj6LR4ldAL"
      },
      "outputs": [],
      "source": [
        "#C.3\n",
        "\n",
        "class GMM:\n",
        "    def __init__(self, k, max_iter= 13): # iterations required for convergence found to be 13\n",
        "        self.k = k  #number of clusters\n",
        "        self.max_iter = int(max_iter)  #number of iterations\n",
        "\n",
        "    def initialize(self, X):\n",
        "        # n row, m col dataframe\n",
        "        self.shape = X.shape \n",
        "        self.n, self.m = self.shape \n",
        "        \n",
        "        # computing the initial values for the EM algorithm here  \n",
        "\n",
        "        #  initial weights given to each data point wrt to each cluster or P(X_i|z_i=j)\n",
        "        self.weights = np.full(shape=self.shape, fill_value=1/self.k)\n",
        "\n",
        "        # initial value of mean of k (number of clusters) Gaussians\n",
        "        # use kmeans centroids\n",
        "        self.mu = mu_init\n",
        "\n",
        "        # initial value of covariance matrix of a mixture k Gaussian distributions\n",
        "        self.sigma = [ np.cov(X.T) for _ in range(self.k) ] \n",
        "        # theta =(mu_i,sigma_i) i=1,...,k\n",
        "    \n",
        "   #C.2 \n",
        "\n",
        "    # Expectation-Step: update weights holding mu and sigma constant\n",
        "    def e_step(self, X):\n",
        "        # updated weights or P(X_i/z_i=j)\n",
        "        self.weights = self.predict_proba(X)\n",
        "        \n",
        "\n",
        "    # Maximisation-Step: update mu and sigma holding weights constant\n",
        "    def m_step(self, X):\n",
        "        for i in range(self.k):\n",
        "            weight = self.weights[:, [i]]\n",
        "            total_weight = weight.sum()\n",
        "            self.mu[i] = (X * weight).sum(axis=0) / total_weight\n",
        "            self.sigma[i] = np.cov(X.T,aweights=(weight/total_weight).flatten(), bias=True)\n",
        "\n",
        "    # fit data points to cluster \n",
        "    def fit(self, X):\n",
        "        # initialise parameters like weights, mu, sigma of all Gaussians in dataset X\n",
        "        self.initialize(X)\n",
        "        for iteration in range(self.max_iter):\n",
        "            # iterate to update the value of P(X_i/z_i=j)\n",
        "            self.e_step(X)\n",
        "            # iterate to update the value of mu and sigma as the clusters shift\n",
        "            self.m_step(X)\n",
        "\n",
        "\n",
        "    # predicts probability of each data point belonging to each cluster\n",
        "    def predict_proba(self, X):\n",
        "        # Creates a n by k matrix with the probability of each point belonging to each cluster\n",
        "        likelihood = np.zeros( (self.n, self.k) ) \n",
        "        for i in range(self.k):\n",
        "            distribution = multivariate_normal(mean=self.mu[i],cov=self.sigma[i]) #Multivariate Gaussian Distribution\n",
        "            # pdf \n",
        "            likelihood[:,i] = distribution.pdf(X) \n",
        "\n",
        "        num = likelihood\n",
        "        den = num.sum(axis=1)[:, np.newaxis] #create column vector\n",
        "        weights = num / den #Soft Assignment of points to cluster by probability weighting\n",
        "        return weights\n",
        "    \n",
        "    # predict function for assigning the data point to the cluster with highest probability\n",
        "    def predict(self, X):\n",
        "        weights = self.predict_proba(X)\n",
        "        # Hard Assign data point to cluster with maximum probability\n",
        "        return np.argmax(weights, axis=1)\n"
      ]
    },
    {
      "cell_type": "code",
      "execution_count": 135,
      "metadata": {
        "id": "GE51X8g-7qA_"
      },
      "outputs": [],
      "source": [
        "data_GMM=iris_PCA_out.drop(columns=['class'])\n",
        "\n",
        "GMM_final=GMM(3)\n",
        "GMM_final.initialize(data_GMM)\n",
        "\n",
        "\n",
        "#GMM Fit \n",
        "GMM_final.fit(data_GMM)\n",
        "\n",
        "#C.4\n",
        "GMM_final.mu\n",
        "GMM_final.sigma\n",
        "\n",
        "\n",
        "#Soft Assignment Probability Weights \n",
        "GMM_final.predict_proba(data_GMM) #pi\n",
        "GMM_final.e_step(data_GMM)\n",
        "GMM_final.m_step(data_GMM)\n",
        "\n",
        "#C.5\n",
        "#Hard Assign Clusters \n",
        "GMM_final.predict(data_GMM)\n",
        "\n",
        "# GMM Classification \n",
        "GMM_Class=GMM_final.predict(data_GMM)\n",
        "GMM_Class = pd.DataFrame(GMM_Class,columns=[\"Class\"])\n",
        "GMM_output=pd.concat([data_GMM, GMM_Class], axis=1)\n",
        "              "
      ]
    },
    {
      "cell_type": "markdown",
      "metadata": {
        "id": "0qXRdd8wJ8j7"
      },
      "source": [
        "**Final set of parameters output by the algorithm after convergence**"
      ]
    },
    {
      "cell_type": "code",
      "execution_count": 136,
      "metadata": {
        "colab": {
          "base_uri": "https://localhost:8080/"
        },
        "id": "l4YTzsSpLh1G",
        "outputId": "2db2da9a-6ea9-4b80-a64c-8053cf6c66de"
      },
      "outputs": [
        {
          "data": {
            "text/plain": [
              "array([[ 1.31772731,  0.12998719],\n",
              "       [-2.22048311, -0.29440309],\n",
              "       [ 0.90069223,  0.16398956]])"
            ]
          },
          "execution_count": 136,
          "metadata": {},
          "output_type": "execute_result"
        }
      ],
      "source": [
        "#C.4 \n",
        "GMM_final.mu\n"
      ]
    },
    {
      "cell_type": "code",
      "execution_count": 137,
      "metadata": {
        "colab": {
          "base_uri": "https://localhost:8080/"
        },
        "id": "op2GHwMgLko2",
        "outputId": "81b30ee5-0472-471a-ebc2-5aa60292da96"
      },
      "outputs": [
        {
          "data": {
            "text/plain": [
              "[array([[ 0.65612218, -0.33251875],\n",
              "        [-0.33251875,  0.5877147 ]]), array([[0.03949896, 0.01112109],\n",
              "        [0.01112109, 0.86817976]]), array([[ 0.56295337, -0.64989651],\n",
              "        [-0.64989651,  1.17632399]])]"
            ]
          },
          "execution_count": 137,
          "metadata": {},
          "output_type": "execute_result"
        }
      ],
      "source": [
        "#C.4\n",
        "GMM_final.sigma"
      ]
    },
    {
      "cell_type": "code",
      "execution_count": 138,
      "metadata": {
        "colab": {
          "base_uri": "https://localhost:8080/"
        },
        "id": "mfGCq5vcMak7",
        "outputId": "2d71e24d-3815-4824-b78d-08f19167146c"
      },
      "outputs": [
        {
          "data": {
            "text/plain": [
              "array([[1.61576131e-008, 9.99999984e-001, 1.60220940e-014],\n",
              "       [1.87868748e-005, 9.99981203e-001, 9.68451886e-009],\n",
              "       [6.56789239e-007, 9.99999343e-001, 1.01784712e-011],\n",
              "       [2.77502363e-006, 9.99997225e-001, 2.19872838e-010],\n",
              "       [2.84788100e-009, 9.99999997e-001, 4.27886237e-016],\n",
              "       [2.54608914e-010, 1.00000000e+000, 2.37378349e-017],\n",
              "       [7.05353255e-008, 9.99999929e-001, 9.58009114e-014],\n",
              "       [8.27952081e-008, 9.99999917e-001, 3.23688586e-013],\n",
              "       [1.97053900e-005, 9.99980283e-001, 1.20225102e-008],\n",
              "       [3.28963363e-006, 9.99996710e-001, 3.52206176e-010],\n",
              "       [1.43973708e-009, 9.99999999e-001, 3.34535428e-016],\n",
              "       [7.18339954e-008, 9.99999928e-001, 1.86474156e-013],\n",
              "       [7.63993410e-006, 9.99992358e-001, 1.92559935e-009],\n",
              "       [1.11046654e-005, 9.99988895e-001, 3.73572755e-010],\n",
              "       [4.40625518e-012, 1.00000000e+000, 2.58498938e-020],\n",
              "       [3.55466455e-015, 1.00000000e+000, 3.28838845e-025],\n",
              "       [5.45133811e-011, 1.00000000e+000, 1.36744816e-018],\n",
              "       [2.84342090e-008, 9.99999972e-001, 5.23753910e-014],\n",
              "       [6.76574611e-009, 9.99999993e-001, 4.79210200e-015],\n",
              "       [1.81076758e-010, 1.00000000e+000, 5.15013362e-018],\n",
              "       [1.29553492e-006, 9.99998704e-001, 3.26337102e-011],\n",
              "       [1.96305224e-009, 9.99999998e-001, 5.05389718e-016],\n",
              "       [8.59107573e-009, 9.99999991e-001, 6.86679428e-017],\n",
              "       [2.75355996e-005, 9.99972460e-001, 4.65937844e-009],\n",
              "       [1.34762952e-007, 9.99999865e-001, 7.94831508e-013],\n",
              "       [6.73401517e-005, 9.99932593e-001, 6.69415789e-008],\n",
              "       [4.49062861e-007, 9.99999551e-001, 7.23092653e-012],\n",
              "       [2.83918033e-008, 9.99999972e-001, 5.41266928e-014],\n",
              "       [1.18842422e-007, 9.99999881e-001, 7.00482756e-013],\n",
              "       [1.04544011e-006, 9.99998955e-001, 3.46619991e-011],\n",
              "       [5.48303435e-006, 9.99994516e-001, 9.34623395e-010],\n",
              "       [4.65867523e-006, 9.99995341e-001, 2.10357850e-010],\n",
              "       [5.10220771e-013, 1.00000000e+000, 3.54852360e-023],\n",
              "       [5.75437169e-014, 1.00000000e+000, 5.79494502e-024],\n",
              "       [3.28963363e-006, 9.99996710e-001, 3.52206176e-010],\n",
              "       [8.42505757e-007, 9.99999157e-001, 2.48844489e-011],\n",
              "       [5.47587583e-008, 9.99999945e-001, 1.77461132e-013],\n",
              "       [3.28963363e-006, 9.99996710e-001, 3.52206176e-010],\n",
              "       [6.88879194e-006, 9.99993110e-001, 8.25488207e-010],\n",
              "       [1.11712736e-007, 9.99999888e-001, 6.14068044e-013],\n",
              "       [1.70844771e-008, 9.99999983e-001, 1.63880030e-014],\n",
              "       [1.80328771e-002, 9.61324748e-001, 2.06423747e-002],\n",
              "       [9.69571184e-007, 9.99999030e-001, 6.01252655e-012],\n",
              "       [4.40516143e-007, 9.99999559e-001, 5.78854071e-012],\n",
              "       [1.07413921e-009, 9.99999999e-001, 2.19784390e-016],\n",
              "       [2.41405986e-005, 9.99975844e-001, 1.55390652e-008],\n",
              "       [1.47550830e-010, 1.00000000e+000, 2.85058124e-018],\n",
              "       [7.32214291e-007, 9.99999268e-001, 1.08696206e-011],\n",
              "       [1.02184395e-009, 9.99999999e-001, 1.56750488e-016],\n",
              "       [3.09056350e-007, 9.99999691e-001, 3.79615289e-012],\n",
              "       [3.15042674e-001, 1.84825285e-061, 6.84957326e-001],\n",
              "       [3.81391827e-001, 2.69004723e-048, 6.18608173e-001],\n",
              "       [3.71181455e-001, 1.01815460e-066, 6.28818545e-001],\n",
              "       [2.90215057e-001, 6.12279578e-038, 7.09784943e-001],\n",
              "       [4.95247600e-001, 3.21153607e-060, 5.04752400e-001],\n",
              "       [3.86464241e-001, 1.04169747e-037, 6.13535759e-001],\n",
              "       [3.68972375e-001, 9.21809943e-049, 6.31027625e-001],\n",
              "       [1.68202828e-001, 1.24847248e-016, 8.31797172e-001],\n",
              "       [4.24021476e-001, 4.62645255e-055, 5.75978524e-001],\n",
              "       [3.31562078e-001, 1.67052030e-027, 6.68437922e-001],\n",
              "       [7.19476230e-002, 1.32884712e-024, 9.28052377e-001],\n",
              "       [4.23680649e-001, 3.62411988e-039, 5.76319351e-001],\n",
              "       [3.59311606e-001, 2.26756106e-042, 6.40688394e-001],\n",
              "       [4.14658080e-001, 5.61297748e-048, 5.85341920e-001],\n",
              "       [4.78915493e-001, 4.07437822e-026, 5.21084507e-001],\n",
              "       [3.71095066e-001, 2.94381683e-053, 6.28904934e-001],\n",
              "       [4.26429355e-001, 1.61362434e-036, 5.73570645e-001],\n",
              "       [3.66757063e-001, 2.78415591e-031, 6.33242937e-001],\n",
              "       [8.08418664e-001, 2.12477648e-064, 1.91581336e-001],\n",
              "       [2.85041170e-001, 1.74481658e-031, 7.14958830e-001],\n",
              "       [3.89882794e-001, 1.44512396e-048, 6.10117206e-001],\n",
              "       [4.00006547e-001, 2.72977039e-040, 5.99993453e-001],\n",
              "       [7.08192202e-001, 1.64106529e-065, 2.91807798e-001],\n",
              "       [4.09879057e-001, 3.73870916e-045, 5.90120943e-001],\n",
              "       [4.09570736e-001, 2.02641405e-047, 5.90429264e-001],\n",
              "       [3.95937796e-001, 3.20843719e-053, 6.04062204e-001],\n",
              "       [5.39226659e-001, 5.29050873e-067, 4.60773341e-001],\n",
              "       [4.72175907e-001, 3.51571968e-071, 5.27824093e-001],\n",
              "       [4.11279582e-001, 3.43220516e-046, 5.88720418e-001],\n",
              "       [3.29858081e-001, 3.27635897e-026, 6.70141919e-001],\n",
              "       [2.41831853e-001, 1.41145330e-030, 7.58168147e-001],\n",
              "       [2.27691336e-001, 7.13249654e-028, 7.72308664e-001],\n",
              "       [3.65678810e-001, 1.57768363e-033, 6.34321190e-001],\n",
              "       [5.58297265e-001, 1.78675142e-059, 4.41702735e-001],\n",
              "       [4.38479451e-001, 6.21056575e-033, 5.61520549e-001],\n",
              "       [4.83302803e-001, 2.29383453e-038, 5.16697197e-001],\n",
              "       [3.69590630e-001, 1.79547646e-059, 6.30409370e-001],\n",
              "       [6.55125996e-001, 3.16730780e-058, 3.44874004e-001],\n",
              "       [4.93560277e-001, 1.11821211e-028, 5.06439723e-001],\n",
              "       [2.98227740e-001, 1.14870750e-034, 7.01772260e-001],\n",
              "       [3.22897746e-001, 1.39096137e-034, 6.77102254e-001],\n",
              "       [4.08589736e-001, 6.78645293e-045, 5.91410264e-001],\n",
              "       [3.44469600e-001, 3.44960276e-036, 6.55530400e-001],\n",
              "       [1.29941172e-001, 3.20574696e-019, 8.70058828e-001],\n",
              "       [3.56091401e-001, 7.51888813e-035, 6.43908599e-001],\n",
              "       [4.93624785e-001, 3.06861098e-029, 5.06375215e-001],\n",
              "       [4.23250261e-001, 4.59923370e-033, 5.76749739e-001],\n",
              "       [4.09069074e-001, 2.27074592e-043, 5.90930926e-001],\n",
              "       [2.50012198e-001, 3.03843351e-017, 7.49987802e-001],\n",
              "       [3.89611406e-001, 6.28853412e-034, 6.10388594e-001],\n",
              "       [4.69251363e-001, 5.84705797e-092, 5.30748637e-001],\n",
              "       [6.20041996e-001, 6.39522098e-063, 3.79958004e-001],\n",
              "       [8.18882379e-001, 2.24719284e-108, 1.81117621e-001],\n",
              "       [6.17471162e-001, 3.31904614e-074, 3.82528838e-001],\n",
              "       [7.35153579e-001, 1.61745821e-092, 2.64846421e-001],\n",
              "       [9.53539655e-001, 1.52291075e-136, 4.64603446e-002],\n",
              "       [2.94119450e-001, 6.40413919e-037, 7.05880550e-001],\n",
              "       [9.01933929e-001, 5.69631163e-113, 9.80660711e-002],\n",
              "       [9.71553704e-001, 1.09827568e-097, 2.84462958e-002],\n",
              "       [1.49996979e-001, 2.35928161e-112, 8.50003021e-001],\n",
              "       [3.72941267e-001, 1.40372972e-071, 6.27058733e-001],\n",
              "       [8.04935869e-001, 1.78204475e-080, 1.95064131e-001],\n",
              "       [6.96679834e-001, 2.51565914e-093, 3.03320166e-001],\n",
              "       [7.62902122e-001, 2.94565417e-066, 2.37097878e-001],\n",
              "       [7.37580045e-001, 5.61751691e-075, 2.62419955e-001],\n",
              "       [4.42328837e-001, 8.38724117e-081, 5.57671163e-001],\n",
              "       [5.39909502e-001, 1.16017092e-075, 4.60090498e-001],\n",
              "       [3.79847960e-002, 1.97256031e-121, 9.62015204e-001],\n",
              "       [9.99897199e-001, 4.70269702e-167, 1.02801493e-004],\n",
              "       [8.41452241e-001, 9.95954964e-066, 1.58547759e-001],\n",
              "       [5.54846588e-001, 9.23244200e-101, 4.45153412e-001],\n",
              "       [5.11241952e-001, 1.37827736e-056, 4.88758048e-001],\n",
              "       [9.93646681e-001, 4.82413673e-144, 6.35331949e-003],\n",
              "       [6.73027669e-001, 1.16661659e-069, 3.26972331e-001],\n",
              "       [3.52585361e-001, 9.96210933e-086, 6.47414639e-001],\n",
              "       [4.58715767e-001, 5.29273880e-097, 5.41284233e-001],\n",
              "       [5.55256833e-001, 8.21467439e-064, 4.44743167e-001],\n",
              "       [4.36151701e-001, 2.22039086e-058, 5.63848299e-001],\n",
              "       [8.38878296e-001, 1.40147256e-088, 1.61121704e-001],\n",
              "       [6.25310364e-001, 1.52731670e-092, 3.74689636e-001],\n",
              "       [9.60949761e-001, 1.95267037e-119, 3.90502389e-002],\n",
              "       [2.87651556e-002, 2.83834987e-115, 9.71234844e-001],\n",
              "       [8.68780936e-001, 7.59026987e-092, 1.31219064e-001],\n",
              "       [5.24747276e-001, 1.35697542e-061, 4.75252724e-001],\n",
              "       [6.67006214e-001, 1.79833118e-064, 3.32993786e-001],\n",
              "       [9.54817972e-001, 3.97070743e-139, 4.51820283e-002],\n",
              "       [3.02527398e-001, 1.90678021e-080, 6.97472602e-001],\n",
              "       [4.42578938e-001, 9.08422204e-071, 5.57421062e-001],\n",
              "       [4.24854896e-001, 5.79983592e-055, 5.75145104e-001],\n",
              "       [5.65761334e-001, 4.12812347e-092, 4.34238666e-001],\n",
              "       [6.89137127e-001, 1.91616367e-099, 3.10862873e-001],\n",
              "       [5.87090541e-001, 2.44865698e-094, 4.12909459e-001],\n",
              "       [6.20041996e-001, 6.39522098e-063, 3.79958004e-001],\n",
              "       [5.79338048e-001, 7.27212479e-101, 4.20661952e-001],\n",
              "       [4.57659449e-001, 4.74024482e-099, 5.42340551e-001],\n",
              "       [7.01518755e-001, 1.07968841e-092, 2.98481245e-001],\n",
              "       [8.75909271e-001, 2.08215774e-078, 1.24090729e-001],\n",
              "       [5.58263120e-001, 1.10130713e-077, 4.41736880e-001],\n",
              "       [2.91164354e-001, 4.83268956e-072, 7.08835646e-001],\n",
              "       [4.36165587e-001, 3.22600727e-056, 5.63834413e-001]])"
            ]
          },
          "execution_count": 138,
          "metadata": {},
          "output_type": "execute_result"
        }
      ],
      "source": [
        "#C.4\n",
        "GMM_final.predict_proba(data_GMM) #pi"
      ]
    },
    {
      "cell_type": "code",
      "execution_count": 139,
      "metadata": {
        "colab": {
          "base_uri": "https://localhost:8080/"
        },
        "id": "I4awyjZyLbqf",
        "outputId": "d2936ad4-d2a1-4b89-8be7-62087319881d"
      },
      "outputs": [
        {
          "data": {
            "text/plain": [
              "array([1, 1, 1, 1, 1, 1, 1, 1, 1, 1, 1, 1, 1, 1, 1, 1, 1, 1, 1, 1, 1, 1,\n",
              "       1, 1, 1, 1, 1, 1, 1, 1, 1, 1, 1, 1, 1, 1, 1, 1, 1, 1, 1, 1, 1, 1,\n",
              "       1, 1, 1, 1, 1, 1, 2, 2, 2, 2, 2, 2, 2, 2, 2, 2, 2, 2, 2, 2, 2, 2,\n",
              "       2, 2, 0, 2, 2, 2, 0, 2, 2, 2, 0, 2, 2, 2, 2, 2, 2, 0, 2, 2, 2, 0,\n",
              "       2, 2, 2, 2, 2, 2, 2, 2, 2, 2, 2, 2, 2, 0, 0, 0, 0, 0, 2, 0, 0, 2,\n",
              "       2, 0, 0, 0, 0, 2, 0, 2, 0, 0, 0, 0, 0, 0, 2, 2, 0, 2, 0, 0, 0, 2,\n",
              "       0, 0, 0, 0, 2, 2, 2, 0, 0, 0, 0, 0, 2, 0, 0, 0, 2, 2])"
            ]
          },
          "execution_count": 139,
          "metadata": {},
          "output_type": "execute_result"
        }
      ],
      "source": [
        "# Cluster assignment by GMM\n",
        "GMM_final.predict(data_GMM)\n"
      ]
    },
    {
      "cell_type": "markdown",
      "metadata": {
        "id": "l78MktP_KdKB"
      },
      "source": [
        "**Visualizing GMM and EM cluster assignment - Using  Matplotlib to display cluster shape**"
      ]
    },
    {
      "cell_type": "code",
      "execution_count": 141,
      "metadata": {
        "colab": {
          "base_uri": "https://localhost:8080/",
          "height": 513
        },
        "id": "nXxDekqKKYiC",
        "outputId": "27c95de5-6e92-4abf-d1b9-04a00b05a8e8"
      },
      "outputs": [
        {
          "data": {
            "image/png": "[encoded data removed]",
            "text/plain": [
              "<Figure size 720x576 with 1 Axes>"
            ]
          },
          "metadata": {
            "needs_background": "light"
          },
          "output_type": "display_data"
        }
      ],
      "source": [
        "#Visualizing the cluster assignment by GMM and EM algorithm \n",
        "fig = plt.figure(figsize=(10,8))\n",
        "ax = fig.add_subplot(111)\n",
        "\n",
        "groups = GMM_output.groupby('Class')\n",
        "\n",
        "colors = {1:'blue', 0:'green', 2:'red'}\n",
        "\n",
        "ax.scatter(GMM_output['PC 1'], GMM_output['PC 2'], c=GMM_output['Class'].map(colors) )\n",
        "ax.set_xlabel('PC 1')\n",
        "ax.set_ylabel('PC 2')\n",
        "ax.set_title('EM cluster assignment with cluster shape with 13 iterations (final)')\n",
        "\n",
        "#plotting the cluster centers\n",
        "ax.scatter(GMM_final.mu[:,0],GMM_final.mu[:,1], c=\"black\", s=100)\n",
        "\n",
        "#using the code from the draw_ellipse function provided to draw ellipses around the clusters\n",
        "\n",
        "for i in range(0,3):\n",
        "  U,s,Vt = np.linalg.svd(GMM_final.sigma[i])\n",
        "  angle_ellipse = np.degrees(np.arctan2(U[1, 0], U[0, 0]))\n",
        "  width, height = 2 * np.sqrt(s)\n",
        "  ax.add_patch(patches.Ellipse((GMM_final.mu[i][0], GMM_final.mu[i][1]), width, height,\n",
        "                     angle=angle_ellipse, linewidth=2, zorder=1, alpha=0.05))\n",
        "  ax.add_patch(patches.Ellipse((GMM_final.mu[i][0], GMM_final.mu[i][1]), 2*width, 2*height,\n",
        "                     angle=angle_ellipse, linewidth=2, alpha=0.05, zorder=1))\n",
        "  ax.add_patch(patches.Ellipse((GMM_final.mu[i][0], GMM_final.mu[i][1]), 3*width, 3*height,\n",
        "                     angle=angle_ellipse, linewidth=2, zorder=1, alpha=0.05))\n",
        "\n",
        "plt.show()"
      ]
    },
    {
      "cell_type": "markdown",
      "metadata": {
        "id": "Y1Nmic_tLVLI"
      },
      "source": [
        "**Visualizing GMM and EM cluster assignment - Using  Plotly for an interactive visualization**\n"
      ]
    },
    {
      "cell_type": "code",
      "execution_count": 144,
      "metadata": {
        "colab": {
          "base_uri": "https://localhost:8080/",
          "height": 542
        },
        "id": "GmCU6BqlLAcc",
        "outputId": "a4635f9d-73f3-4e61-cf49-8cf44d008f44"
      },
      "outputs": [
        {
          "data": {
            "text/html": [
              "<html>\n",
              "<head><meta charset=\"utf-8\" /></head>\n",
              "<body>\n",
              "    <div>\n",
              "            <script src=\"https://cdnjs.cloudflare.com/ajax/libs/mathjax/2.7.5/MathJax.js?config=TeX-AMS-MML_SVG\"></script><script type=\"text/javascript\">if (window.MathJax) {MathJax.Hub.Config({SVG: {font: \"STIX-Web\"}});}</script>\n",
              "                <script type=\"text/javascript\">window.PlotlyConfig = {MathJaxConfig: 'local'};</script>\n",
              "        <script src=\"https://cdn.plot.ly/plotly-latest.min.js\"></script>    \n",
              "            <div id=\"f0d42d02-4ad4-4089-8b67-37c090999295\" class=\"plotly-graph-div\" style=\"height:525px; width:100%;\"></div>\n",
              "            <script type=\"text/javascript\">\n",
              "                \n",
              "                    window.PLOTLYENV=window.PLOTLYENV || {};\n",
              "                    \n",
              "                if (document.getElementById(\"f0d42d02-4ad4-4089-8b67-37c090999295\")) {\n",
              "                    Plotly.newPlot(\n",
              "                        'f0d42d02-4ad4-4089-8b67-37c090999295',\n",
              "                        [{\"hoverlabel\": {\"namelength\": 0}, \"hovertemplate\": \"species=Iris-setosa<br>PC 1=%{x}<br>PC 2=%{y}\", \"legendgroup\": \"species=Iris-setosa\", \"marker\": {\"color\": \"#636efa\", \"symbol\": \"circle\"}, \"mode\": \"markers\", \"name\": \"species=Iris-setosa\", \"showlegend\": true, \"type\": \"scatter\", \"x\": [-2.2645417283948994, -2.0864255006161585, -2.3679504490625254, -2.304197161152009, -2.388777493505641, -2.0705368071805523, -2.4457113396302828, -2.2338418587092654, -2.3419576764553898, -2.1886757552808698, -2.163486556266522, -2.3273777541343734, -2.224082722045002, -2.6397162608446294, -2.1922915084984282, -2.2514652145840635, -2.2027504800800846, -2.1901791637910515, -1.8940742930236674, -2.3399490704234074, -1.9145563949595168, -2.2046453975338127, -2.774169793705156, -1.8204115633372135, -2.2282174994597246, -1.9570240073413971, -2.052063311276686, -2.1681936533450203, -2.140305963284157, -2.268790194387876, -2.1445544292771346, -1.8319381022015868, -2.608202867663346, -2.437950859095141, -2.1886757552808698, -2.211119896812422, -2.0444165193198, -2.1886757552808698, -2.4359522029660194, -2.1705472018842698, -2.2865272388409297, -1.8717072235369516, -2.557834419537512, -1.9642792903547368, -2.1333728329200268, -2.0753575928373063, -2.381258216802372, -2.398191687662638, -2.2267812130915177, -2.205954168648402], \"xaxis\": \"x\", \"y\": [-0.5057039027737842, 0.6554047293691371, 0.31847731084724934, 0.5753677125331955, -0.674767396702515, -1.5185485598885125, -0.07456267500687402, -0.2476139317522648, 1.0951463625829554, 0.4486290483375595, -1.0705955760377257, -0.15858745465947582, 0.7091181580302267, 0.9382819821078541, -1.8899785123164645, -2.7223710765744684, -1.513750282546218, -0.5143043082206924, -1.4311107069412359, -1.1580334289850007, -0.43046516328013734, -0.9524573172889979, -0.489517026503495, -0.10675079283540581, -0.16218616266619681, 0.6078925674838085, -0.2660143119816548, -0.5520164953235392, -0.3366404088450537, 0.3148786028405283, 0.48394209676925914, -0.4452668355028063, -1.8284751927341008, -2.185391615630892, 0.4486290483375595, 0.18433781054027923, -0.6849564262949358, 0.4486290483375595, 0.8821694147756171, -0.2927269549664459, -0.46799171567093767, 2.32769160611491, 0.45381638048979306, -0.4973916400183833, -1.1714321117742037, 0.6919173471364103, -1.1506325928736663, 0.3623907647258572, -1.025482552823544, -0.032237845273779125], \"yaxis\": \"y\"}, {\"hoverlabel\": {\"namelength\": 0}, \"hovertemplate\": \"species=Iris-versicolor<br>PC 1=%{x}<br>PC 2=%{y}\", \"legendgroup\": \"species=Iris-versicolor\", \"marker\": {\"color\": \"#EF553B\", \"symbol\": \"circle\"}, \"mode\": \"markers\", \"name\": \"species=Iris-versicolor\", \"showlegend\": true, \"type\": \"scatter\", \"x\": [1.1039936528045722, 0.7324814400086808, 1.2421095053189375, 0.39730728282332634, 1.0725939482015445, 0.38445814616900126, 0.748715075951553, -0.49786338779811856, 0.9262223675330977, 0.0049680255843190385, -0.1246974613803719, 0.4387301177805466, 0.5516339814225064, 0.717165066236851, -0.03725838296568851, 0.8758905359406828, 0.34800640198020855, 0.1533925445686665, 0.15694117564424995, 0.7382561043698961, 0.47236968234456794, 0.6293810453149015, 0.7004727992084578, 0.8735369874014333, 1.3582398473872714, 0.6621261375659374, -0.04728151331988073, 0.12153420888011794, 0.014118226051386977, 0.23601083732659633, 0.2214170883302179, 0.43178316074105383, 1.04941335521918, 0.06706759987298029, 0.2754250662518336, 0.2723350662617716, 0.6231705397262214, 0.33000536383722584, -0.37362762268737687, 0.2829443429551024, 0.08905311031901139, 0.22435678320860583, 0.5738834855584666, -0.4570128725046754, 0.2522444732694689, 1.8476725943096644, 0.35837447484166757, 2.2675545991022688, 1.3659094292022143, 1.591809302638529, 2.437378482193509, 1.704240708519606, 1.9577276617934352, 1.0197810528162627, 2.3160824119611547, 1.5801552485205375, 1.3470444243548019, 0.9234329777663841, 2.001690966934998, 1.3763911906419284, 0.9592985756160379], \"xaxis\": \"x\", \"y\": [-0.8631124458513227, -0.5986355733419962, -0.6148224496122853, 1.7581689474435267, 0.2117579026798969, 0.591062468622737, -0.7786986113887812, 1.8488687712754428, -0.03033082678337979, 1.0294011124030882, 2.658062677961761, 0.058881285021455086, 1.772581564856256, 0.18543431450504475, 0.43279509871416955, -0.5099981510591461, 0.19062164665727824, 0.7907254562344861, 1.3031032701729117, -0.40247038161853543, 0.41660822244388046, 0.41681164254177305, 0.06349392765170343, -0.25070861070205264, -0.3288202662704008, 0.22434607094346495, 1.057212412605021, 1.5635923798655786, 1.5733923546480604, 0.7759237840118172, 0.2808476930856405, -0.8551369202180021, -0.5221972645127754, 0.2126207348933893, 1.3298159131577028, 1.1194415241194045, -0.027542633302293573, 0.9889007318191555, 2.0179322652041733, 0.8539507169865506, 0.1749085477905423, 0.38048465948654603, 0.15371997408006607, 1.539464510263981, 0.5958607459650317, -0.8716966617734125, 1.5600945839772893, -1.921442991465354, -0.6939480398041603, -0.677035371601851, -2.5567573414948006, -1.0141484248357842, -1.0033345154297757, -0.06554296309664738, -2.626183869022626, -1.0724744961271218, -0.4222559658955455, -0.019230370546892604, -1.048550046623417, -1.016361928794885, 0.022283944660567524], \"yaxis\": \"y\"}, {\"hoverlabel\": {\"namelength\": 0}, \"hovertemplate\": \"species=Iris-virginica<br>PC 1=%{x}<br>PC 2=%{y}\", \"legendgroup\": \"species=Iris-virginica\", \"marker\": {\"color\": \"#00cc96\", \"symbol\": \"circle\"}, \"mode\": \"markers\", \"name\": \"species=Iris-virginica\", \"showlegend\": true, \"type\": \"scatter\", \"x\": [1.2153032092161529, 1.2279882140834417, 1.2542221905224493, 1.0566914280905761, 1.035878210322823, 1.1531898082521288, 2.206349497126593, 1.4386854023261815, 1.8678907025555844, 2.754196708825752, 2.3030058981503188, 2.0017352992189155, 1.5990645856518686, 1.884251853752074, 1.2530865143775913, 1.4640615229856224, 1.4712801894655434, 3.3091411826760786, 1.253980986690577, 2.040496259663039, 0.9739151144704735, 2.898064435843276, 1.3291936913234927, 1.1719045079878683, 1.7860088612484677, 1.8647779127074657, 2.4354973914151423, 1.8603714258523156, 1.1112717256759688, 1.1974691551180372, 2.8009494037340286, 1.8535519840664405, 2.016157200677759, 1.9031168585994869, 1.1531898082521288, 2.0433084392878094, 1.8705220714601252, 1.5584918907237164, 1.5208450639985902], \"xaxis\": \"x\", \"y\": [1.633355644515484, 0.9409147925302734, 0.08262009981311401, 0.6369012837689377, 1.392466484387782, 0.7013261138565757, -0.5544701049349213, 0.050010522268886366, -0.2911928017611684, -0.7884322063548433, -0.40951669522194206, 0.7238653593126605, 0.4282488359003405, -0.41433275795008295, 1.1673913352452463, 0.4441475694791238, -0.2531924719668146, 0.0023613201020845995, 1.7175838442659783, -0.907398765015052, 0.5711743763662664, -0.39779135917186653, 0.48676054190372486, 0.3188966173105686, 0.19327279985689214, -0.5553815315789882, -0.2466544680689725, 0.18467239440998395, 0.2959861024303912, 0.8171677419136167, -0.8447481937849729, -0.6724227289716028, -0.6103970375551121, -0.6860248318586981, 0.7013261138565757, -0.8646848804720179, -0.3828218376229973, 0.905313601407067, -0.26679457485391], \"yaxis\": \"y\"}, {\"marker\": {\"color\": \"black\", \"size\": 10}, \"mode\": \"markers\", \"name\": \"centroids\", \"type\": \"scatter\", \"x\": [1.3177273119654536, -2.2204831117600516, 0.9006922295305662], \"y\": [0.12998718542803542, -0.2944030911499669, 0.16398955709147173]}],\n",
              "                        {\"legend\": {\"tracegroupgap\": 0}, \"template\": {\"data\": {\"bar\": [{\"error_x\": {\"color\": \"#2a3f5f\"}, \"error_y\": {\"color\": \"#2a3f5f\"}, \"marker\": {\"line\": {\"color\": \"white\", \"width\": 0.5}}, \"type\": \"bar\"}], \"barpolar\": [{\"marker\": {\"line\": {\"color\": \"white\", \"width\": 0.5}}, \"type\": \"barpolar\"}], \"carpet\": [{\"aaxis\": {\"endlinecolor\": \"#2a3f5f\", \"gridcolor\": \"#C8D4E3\", \"linecolor\": \"#C8D4E3\", \"minorgridcolor\": \"#C8D4E3\", \"startlinecolor\": \"#2a3f5f\"}, \"baxis\": {\"endlinecolor\": \"#2a3f5f\", \"gridcolor\": \"#C8D4E3\", \"linecolor\": \"#C8D4E3\", \"minorgridcolor\": \"#C8D4E3\", \"startlinecolor\": \"#2a3f5f\"}, \"type\": \"carpet\"}], \"choropleth\": [{\"colorbar\": {\"outlinewidth\": 0, \"ticks\": \"\"}, \"type\": \"choropleth\"}], \"contour\": [{\"colorbar\": {\"outlinewidth\": 0, \"ticks\": \"\"}, \"colorscale\": [[0.0, \"#0d0887\"], [0.1111111111111111, \"#46039f\"], [0.2222222222222222, \"#7201a8\"], [0.3333333333333333, \"#9c179e\"], [0.4444444444444444, \"#bd3786\"], [0.5555555555555556, \"#d8576b\"], [0.6666666666666666, \"#ed7953\"], [0.7777777777777778, \"#fb9f3a\"], [0.8888888888888888, \"#fdca26\"], [1.0, \"#f0f921\"]], \"type\": \"contour\"}], \"contourcarpet\": [{\"colorbar\": {\"outlinewidth\": 0, \"ticks\": \"\"}, \"type\": \"contourcarpet\"}], \"heatmap\": [{\"colorbar\": {\"outlinewidth\": 0, \"ticks\": \"\"}, \"colorscale\": [[0.0, \"#0d0887\"], [0.1111111111111111, \"#46039f\"], [0.2222222222222222, \"#7201a8\"], [0.3333333333333333, \"#9c179e\"], [0.4444444444444444, \"#bd3786\"], [0.5555555555555556, \"#d8576b\"], [0.6666666666666666, \"#ed7953\"], [0.7777777777777778, \"#fb9f3a\"], [0.8888888888888888, \"#fdca26\"], [1.0, \"#f0f921\"]], \"type\": \"heatmap\"}], \"heatmapgl\": [{\"colorbar\": {\"outlinewidth\": 0, \"ticks\": \"\"}, \"colorscale\": [[0.0, \"#0d0887\"], [0.1111111111111111, \"#46039f\"], [0.2222222222222222, \"#7201a8\"], [0.3333333333333333, \"#9c179e\"], [0.4444444444444444, \"#bd3786\"], [0.5555555555555556, \"#d8576b\"], [0.6666666666666666, \"#ed7953\"], [0.7777777777777778, \"#fb9f3a\"], [0.8888888888888888, \"#fdca26\"], [1.0, \"#f0f921\"]], \"type\": \"heatmapgl\"}], \"histogram\": [{\"marker\": {\"colorbar\": {\"outlinewidth\": 0, \"ticks\": \"\"}}, \"type\": \"histogram\"}], \"histogram2d\": [{\"colorbar\": {\"outlinewidth\": 0, \"ticks\": \"\"}, \"colorscale\": [[0.0, \"#0d0887\"], [0.1111111111111111, \"#46039f\"], [0.2222222222222222, \"#7201a8\"], [0.3333333333333333, \"#9c179e\"], [0.4444444444444444, \"#bd3786\"], [0.5555555555555556, \"#d8576b\"], [0.6666666666666666, \"#ed7953\"], [0.7777777777777778, \"#fb9f3a\"], [0.8888888888888888, \"#fdca26\"], [1.0, \"#f0f921\"]], \"type\": \"histogram2d\"}], \"histogram2dcontour\": [{\"colorbar\": {\"outlinewidth\": 0, \"ticks\": \"\"}, \"colorscale\": [[0.0, \"#0d0887\"], [0.1111111111111111, \"#46039f\"], [0.2222222222222222, \"#7201a8\"], [0.3333333333333333, \"#9c179e\"], [0.4444444444444444, \"#bd3786\"], [0.5555555555555556, \"#d8576b\"], [0.6666666666666666, \"#ed7953\"], [0.7777777777777778, \"#fb9f3a\"], [0.8888888888888888, \"#fdca26\"], [1.0, \"#f0f921\"]], \"type\": \"histogram2dcontour\"}], \"mesh3d\": [{\"colorbar\": {\"outlinewidth\": 0, \"ticks\": \"\"}, \"type\": \"mesh3d\"}], \"parcoords\": [{\"line\": {\"colorbar\": {\"outlinewidth\": 0, \"ticks\": \"\"}}, \"type\": \"parcoords\"}], \"pie\": [{\"automargin\": true, \"type\": \"pie\"}], \"scatter\": [{\"marker\": {\"colorbar\": {\"outlinewidth\": 0, \"ticks\": \"\"}}, \"type\": \"scatter\"}], \"scatter3d\": [{\"line\": {\"colorbar\": {\"outlinewidth\": 0, \"ticks\": \"\"}}, \"marker\": {\"colorbar\": {\"outlinewidth\": 0, \"ticks\": \"\"}}, \"type\": \"scatter3d\"}], \"scattercarpet\": [{\"marker\": {\"colorbar\": {\"outlinewidth\": 0, \"ticks\": \"\"}}, \"type\": \"scattercarpet\"}], \"scattergeo\": [{\"marker\": {\"colorbar\": {\"outlinewidth\": 0, \"ticks\": \"\"}}, \"type\": \"scattergeo\"}], \"scattergl\": [{\"marker\": {\"colorbar\": {\"outlinewidth\": 0, \"ticks\": \"\"}}, \"type\": \"scattergl\"}], \"scattermapbox\": [{\"marker\": {\"colorbar\": {\"outlinewidth\": 0, \"ticks\": \"\"}}, \"type\": \"scattermapbox\"}], \"scatterpolar\": [{\"marker\": {\"colorbar\": {\"outlinewidth\": 0, \"ticks\": \"\"}}, \"type\": \"scatterpolar\"}], \"scatterpolargl\": [{\"marker\": {\"colorbar\": {\"outlinewidth\": 0, \"ticks\": \"\"}}, \"type\": \"scatterpolargl\"}], \"scatterternary\": [{\"marker\": {\"colorbar\": {\"outlinewidth\": 0, \"ticks\": \"\"}}, \"type\": \"scatterternary\"}], \"surface\": [{\"colorbar\": {\"outlinewidth\": 0, \"ticks\": \"\"}, \"colorscale\": [[0.0, \"#0d0887\"], [0.1111111111111111, \"#46039f\"], [0.2222222222222222, \"#7201a8\"], [0.3333333333333333, \"#9c179e\"], [0.4444444444444444, \"#bd3786\"], [0.5555555555555556, \"#d8576b\"], [0.6666666666666666, \"#ed7953\"], [0.7777777777777778, \"#fb9f3a\"], [0.8888888888888888, \"#fdca26\"], [1.0, \"#f0f921\"]], \"type\": \"surface\"}], \"table\": [{\"cells\": {\"fill\": {\"color\": \"#EBF0F8\"}, \"line\": {\"color\": \"white\"}}, \"header\": {\"fill\": {\"color\": \"#C8D4E3\"}, \"line\": {\"color\": \"white\"}}, \"type\": \"table\"}]}, \"layout\": {\"annotationdefaults\": {\"arrowcolor\": \"#2a3f5f\", \"arrowhead\": 0, \"arrowwidth\": 1}, \"coloraxis\": {\"colorbar\": {\"outlinewidth\": 0, \"ticks\": \"\"}}, \"colorscale\": {\"diverging\": [[0, \"#8e0152\"], [0.1, \"#c51b7d\"], [0.2, \"#de77ae\"], [0.3, \"#f1b6da\"], [0.4, \"#fde0ef\"], [0.5, \"#f7f7f7\"], [0.6, \"#e6f5d0\"], [0.7, \"#b8e186\"], [0.8, \"#7fbc41\"], [0.9, \"#4d9221\"], [1, \"#276419\"]], \"sequential\": [[0.0, \"#0d0887\"], [0.1111111111111111, \"#46039f\"], [0.2222222222222222, \"#7201a8\"], [0.3333333333333333, \"#9c179e\"], [0.4444444444444444, \"#bd3786\"], [0.5555555555555556, \"#d8576b\"], [0.6666666666666666, \"#ed7953\"], [0.7777777777777778, \"#fb9f3a\"], [0.8888888888888888, \"#fdca26\"], [1.0, \"#f0f921\"]], \"sequentialminus\": [[0.0, \"#0d0887\"], [0.1111111111111111, \"#46039f\"], [0.2222222222222222, \"#7201a8\"], [0.3333333333333333, \"#9c179e\"], [0.4444444444444444, \"#bd3786\"], [0.5555555555555556, \"#d8576b\"], [0.6666666666666666, \"#ed7953\"], [0.7777777777777778, \"#fb9f3a\"], [0.8888888888888888, \"#fdca26\"], [1.0, \"#f0f921\"]]}, \"colorway\": [\"#636efa\", \"#EF553B\", \"#00cc96\", \"#ab63fa\", \"#FFA15A\", \"#19d3f3\", \"#FF6692\", \"#B6E880\", \"#FF97FF\", \"#FECB52\"], \"font\": {\"color\": \"#2a3f5f\"}, \"geo\": {\"bgcolor\": \"white\", \"lakecolor\": \"white\", \"landcolor\": \"white\", \"showlakes\": true, \"showland\": true, \"subunitcolor\": \"#C8D4E3\"}, \"hoverlabel\": {\"align\": \"left\"}, \"hovermode\": \"closest\", \"mapbox\": {\"style\": \"light\"}, \"paper_bgcolor\": \"white\", \"plot_bgcolor\": \"white\", \"polar\": {\"angularaxis\": {\"gridcolor\": \"#EBF0F8\", \"linecolor\": \"#EBF0F8\", \"ticks\": \"\"}, \"bgcolor\": \"white\", \"radialaxis\": {\"gridcolor\": \"#EBF0F8\", \"linecolor\": \"#EBF0F8\", \"ticks\": \"\"}}, \"scene\": {\"xaxis\": {\"backgroundcolor\": \"white\", \"gridcolor\": \"#DFE8F3\", \"gridwidth\": 2, \"linecolor\": \"#EBF0F8\", \"showbackground\": true, \"ticks\": \"\", \"zerolinecolor\": \"#EBF0F8\"}, \"yaxis\": {\"backgroundcolor\": \"white\", \"gridcolor\": \"#DFE8F3\", \"gridwidth\": 2, \"linecolor\": \"#EBF0F8\", \"showbackground\": true, \"ticks\": \"\", \"zerolinecolor\": \"#EBF0F8\"}, \"zaxis\": {\"backgroundcolor\": \"white\", \"gridcolor\": \"#DFE8F3\", \"gridwidth\": 2, \"linecolor\": \"#EBF0F8\", \"showbackground\": true, \"ticks\": \"\", \"zerolinecolor\": \"#EBF0F8\"}}, \"shapedefaults\": {\"line\": {\"color\": \"#2a3f5f\"}}, \"ternary\": {\"aaxis\": {\"gridcolor\": \"#DFE8F3\", \"linecolor\": \"#A2B1C6\", \"ticks\": \"\"}, \"baxis\": {\"gridcolor\": \"#DFE8F3\", \"linecolor\": \"#A2B1C6\", \"ticks\": \"\"}, \"bgcolor\": \"white\", \"caxis\": {\"gridcolor\": \"#DFE8F3\", \"linecolor\": \"#A2B1C6\", \"ticks\": \"\"}}, \"title\": {\"x\": 0.05}, \"xaxis\": {\"automargin\": true, \"gridcolor\": \"#EBF0F8\", \"linecolor\": \"#EBF0F8\", \"ticks\": \"\", \"title\": {\"standoff\": 15}, \"zerolinecolor\": \"#EBF0F8\", \"zerolinewidth\": 2}, \"yaxis\": {\"automargin\": true, \"gridcolor\": \"#EBF0F8\", \"linecolor\": \"#EBF0F8\", \"ticks\": \"\", \"title\": {\"standoff\": 15}, \"zerolinecolor\": \"#EBF0F8\", \"zerolinewidth\": 2}}}, \"title\": {\"text\": \"GMM and EM Algorithm Clustering\"}, \"xaxis\": {\"anchor\": \"y\", \"domain\": [0.0, 1.0], \"title\": {\"text\": \"PC 1\"}}, \"yaxis\": {\"anchor\": \"x\", \"domain\": [0.0, 1.0], \"title\": {\"text\": \"PC 2\"}}},\n",
              "                        {\"responsive\": true}\n",
              "                    ).then(function(){\n",
              "                            \n",
              "var gd = document.getElementById('f0d42d02-4ad4-4089-8b67-37c090999295');\n",
              "var x = new MutationObserver(function (mutations, observer) {{\n",
              "        var display = window.getComputedStyle(gd).display;\n",
              "        if (!display || display === 'none') {{\n",
              "            console.log([gd, 'removed!']);\n",
              "            Plotly.purge(gd);\n",
              "            observer.disconnect();\n",
              "        }}\n",
              "}});\n",
              "\n",
              "// Listen for the removal of the full notebook cells\n",
              "var notebookContainer = gd.closest('#notebook-container');\n",
              "if (notebookContainer) {{\n",
              "    x.observe(notebookContainer, {childList: true});\n",
              "}}\n",
              "\n",
              "// Listen for the clearing of the current output cell\n",
              "var outputEl = gd.closest('.output');\n",
              "if (outputEl) {{\n",
              "    x.observe(outputEl, {childList: true});\n",
              "}}\n",
              "\n",
              "                        })\n",
              "                };\n",
              "                \n",
              "            </script>\n",
              "        </div>\n",
              "</body>\n",
              "</html>"
            ]
          },
          "metadata": {},
          "output_type": "display_data"
        }
      ],
      "source": [
        "\n",
        "GMM_output_copy = GMM_output.copy()\n",
        "\n",
        "GMM_output_copy[\"Class\"] = GMM_output_copy[\"Class\"].astype(str)\n",
        "\n",
        "#match cluster assignment to its corresponding Iris species  \n",
        "cond2= [GMM_output_copy[\"Class\"] ==\"1\",  GMM_output_copy[\"Class\"] ==\"0\",  GMM_output_copy[\"Class\"] ==\"2\" ]\n",
        "choice2= [ \"Iris-setosa\", 'Iris-virginica', 'Iris-versicolor' ]\n",
        "    \n",
        "GMM_output_copy[\"species\"] = np.select(cond2, choice2, default=np.nan)\n",
        "\n",
        "fig = px.scatter(GMM_output_copy, x=\"PC 1\", y=\"PC 2\", color=\"species\", #color_discrete_map={\"Iris-versicolor\": '#EF553B', \"Iris-virginica\": '#00CC96', \"Iris-setosa\":\"#636EFA\"},\n",
        "                 title=\"GMM and EM Algorithm Clustering\", template=\"plotly_white\")\n",
        "\n",
        "\n",
        "fig.add_trace(\n",
        "    go.Scatter(\n",
        "        x=GMM_final.mu[:,0], y=GMM_final.mu[:,1], mode=\"markers\",\n",
        "        marker=dict(size=10, color=\"black\"),\n",
        "        name=\"centroids\")\n",
        ")\n",
        "fig.show()\n",
        "\n",
        "# note that cluster shape is not drawn in this Plotly visual since the draw_ellipse function provided\n",
        "# uses add_patch from the matplotlib package - and does not work with Plotly."
      ]
    },
    {
      "cell_type": "markdown",
      "metadata": {
        "id": "CjMKIZtKTGlZ"
      },
      "source": [
        "**Calculating GMM and EM algorithm clustering accuracy**"
      ]
    },
    {
      "cell_type": "code",
      "execution_count": 145,
      "metadata": {
        "colab": {
          "base_uri": "https://localhost:8080/"
        },
        "id": "eijnSkkudfv2",
        "outputId": "3cde3fd1-510b-4b7f-b728-0429a5e71958"
      },
      "outputs": [
        {
          "name": "stdout",
          "output_type": "stream",
          "text": [
            "              precision    recall  f1-score   support\n",
            "\n",
            "           0       0.87      0.68      0.76        50\n",
            "           1       1.00      1.00      1.00        50\n",
            "           2       0.74      0.90      0.81        50\n",
            "\n",
            "    accuracy                           0.86       150\n",
            "   macro avg       0.87      0.86      0.86       150\n",
            "weighted avg       0.87      0.86      0.86       150\n",
            "\n"
          ]
        }
      ],
      "source": [
        "#accuracy of GMM\n",
        "\n",
        "target_names = ['0', '1', '2']\n",
        "\n",
        "iris_PCA_out['class'] \n",
        "\n",
        "#GMM accuracy score\n",
        "iris_PCA_out_copy2 = iris_PCA_out.copy()\n",
        "\n",
        "\n",
        "#assigning iris species to cluster assignment to calculate accuracy of GMM clustering compared to ground truth labels\n",
        "\n",
        "iris_PCA_out_copy2= iris_PCA_out_copy2.rename(columns={\"class\": \"species\"})\n",
        "GMM_output_copy2 = GMM_output_copy.drop(columns=['PC 1',\"PC 2\"])\n",
        "GMM_output_copy2 = GMM_output_copy2.drop_duplicates()\n",
        "iris_PCA_out_copy2 = pd.merge(iris_PCA_out_copy2, GMM_output_copy2, on=\"species\")\n",
        "iris_PCA_out_copy2= iris_PCA_out_copy2.rename(columns={\"species\": \"class\"})\n",
        "iris_PCA_out_copy2= iris_PCA_out_copy2.rename(columns={\"Class\": \"class2\"})\n",
        "iris_PCA_out_copy2[\"class2\"] = pd.to_numeric(iris_PCA_out_copy2[\"class2\"])\n",
        "\n",
        "iris_GMM_accuracy = pd.concat([iris_PCA_out_copy2.reset_index(drop=True), \n",
        "                               pd.DataFrame(GMM_final.predict(data_GMM))], axis=1)\n",
        "iris_GMM_accuracy = iris_GMM_accuracy.rename(columns = {0:'gmm_class'})\n",
        "\n",
        "iris_GMM_accuracy = iris_GMM_accuracy.copy()\n",
        "\n",
        "iris_GMM_accuracy['Same'] = np.where( iris_GMM_accuracy['class2'] == iris_GMM_accuracy['gmm_class'] , 1, 0)\n",
        "\n",
        "iris_GMM_accuracy_out = pd.DataFrame(columns=['Total', 'Iris-setosa', 'Iris-versicolor', 'Iris-virginica'])\n",
        "\n",
        "iris_GMM_accuracy_out.loc[0,'Total'] = iris_GMM_accuracy['Same'].sum()/150 \n",
        "\n",
        "iris_GMM_accuracy_out.loc[0,'Iris-setosa'] = iris_GMM_accuracy[iris_accuracy['class'] =='Iris-setosa']['Same'].sum()/50 \n",
        "iris_GMM_accuracy_out.loc[0,'Iris-versicolor'] = iris_GMM_accuracy[iris_accuracy['class'] =='Iris-versicolor']['Same'].sum()/50 \n",
        "iris_GMM_accuracy_out.loc[0,'Iris-virginica'] = iris_GMM_accuracy[iris_accuracy['class'] =='Iris-virginica']['Same'].sum()/50 \n",
        "\n",
        "#classification report\n",
        "print(classification_report(iris_PCA_out_copy2['class2'],GMM_final.predict(data_GMM),target_names=target_names))\n",
        "\n",
        "\n"
      ]
    },
    {
      "cell_type": "code",
      "execution_count": 146,
      "metadata": {
        "colab": {
          "base_uri": "https://localhost:8080/",
          "height": 80
        },
        "id": "9De-CHd5OGyx",
        "outputId": "38cbb215-e713-4f84-b039-721876b90d22"
      },
      "outputs": [
        {
          "data": {
            "text/html": [
              "<div>\n",
              "<style scoped>\n",
              "    .dataframe tbody tr th:only-of-type {\n",
              "        vertical-align: middle;\n",
              "    }\n",
              "\n",
              "    .dataframe tbody tr th {\n",
              "        vertical-align: top;\n",
              "    }\n",
              "\n",
              "    .dataframe thead th {\n",
              "        text-align: right;\n",
              "    }\n",
              "</style>\n",
              "<table border=\"1\" class=\"dataframe\">\n",
              "  <thead>\n",
              "    <tr style=\"text-align: right;\">\n",
              "      <th></th>\n",
              "      <th>Total</th>\n",
              "      <th>Iris-setosa</th>\n",
              "      <th>Iris-versicolor</th>\n",
              "      <th>Iris-virginica</th>\n",
              "    </tr>\n",
              "  </thead>\n",
              "  <tbody>\n",
              "    <tr>\n",
              "      <th>0</th>\n",
              "      <td>0.86</td>\n",
              "      <td>1</td>\n",
              "      <td>0.9</td>\n",
              "      <td>0.68</td>\n",
              "    </tr>\n",
              "  </tbody>\n",
              "</table>\n",
              "</div>"
            ],
            "text/plain": [
              "  Total Iris-setosa Iris-versicolor Iris-virginica\n",
              "0  0.86           1             0.9           0.68"
            ]
          },
          "execution_count": 146,
          "metadata": {},
          "output_type": "execute_result"
        }
      ],
      "source": [
        "#Basic accuracy of GMM cluster assignment compared to ground truth labels\n",
        "\n",
        "iris_GMM_accuracy_out #13 iterations - final"
      ]
    }
  ],
  "metadata": {
    "colab": {
      "collapsed_sections": [],
      "name": "FINAL-Final Iris GMM-Kmeans-Mahnoor.ipynb",
      "provenance": []
    },
    "kernelspec": {
      "display_name": "Python 3",
      "name": "python3"
    },
    "language_info": {
      "name": "python"
    }
  },
  "nbformat": 4,
  "nbformat_minor": 0
}
